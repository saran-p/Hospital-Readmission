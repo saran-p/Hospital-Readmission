{
 "cells": [
  {
   "cell_type": "markdown",
   "metadata": {},
   "source": [
    "# Hospital Readmission Prediction"
   ]
  },
  {
   "cell_type": "markdown",
   "metadata": {},
   "source": [
    "### A hospital readmission is when a patient who is discharged from a hospital, gets re-admitted again within a certain period of time. Readmission rates for certain conditions are now considered an indicator of hospital quality, and also affect the cost of care adversely. Being able to determine factors that lead to higher readmission in such patients, and correspondingly being able to predict which patients will get readmitted can help hospitals save millions of dollars while improving quality of care. So, with that background in mind, we build models to predict the readmission rate "
   ]
  },
  {
   "cell_type": "markdown",
   "metadata": {},
   "source": [
    "#### Dataset -> https://archive.ics.uci.edu/ml/datasets/diabetes"
   ]
  },
  {
   "cell_type": "code",
   "execution_count": 1,
   "metadata": {},
   "outputs": [],
   "source": [
    "import pandas as pd\n",
    "import matplotlib.pyplot as plt\n",
    "from sklearn.preprocessing import MinMaxScaler\n",
    "import numpy as np\n",
    "from sklearn import metrics\n",
    "from sklearn.model_selection import train_test_split\n",
    "from sklearn.linear_model import LogisticRegression\n",
    "from sklearn.neighbors import KNeighborsClassifier\n",
    "from sklearn.svm import SVC\n",
    "from sklearn.tree import DecisionTreeClassifier\n",
    "from sklearn.model_selection import cross_val_score\n",
    "from sklearn.model_selection import GridSearchCV\n",
    "import seaborn as sns\n",
    "from sklearn.ensemble import VotingClassifier\n",
    "from sklearn.metrics import accuracy_score\n",
    "from sklearn.ensemble import BaggingClassifier\n",
    "from sklearn.ensemble import AdaBoostClassifier\n",
    "from sklearn.svm import LinearSVC\n",
    "from sklearn.ensemble import GradientBoostingClassifier\n",
    "from sklearn.metrics import classification_report\n",
    "from sklearn.decomposition import PCA\n",
    "import warnings\n",
    "warnings.filterwarnings('ignore')\n",
    "\n",
    "from sklearn.metrics import confusion_matrix \n",
    "from sklearn.metrics import accuracy_score \n",
    "from sklearn.metrics import classification_report\n"
   ]
  },
  {
   "cell_type": "markdown",
   "metadata": {},
   "source": [
    "### Column Info"
   ]
  },
  {
   "cell_type": "markdown",
   "metadata": {},
   "source": [
    "- encounter_id : Patient encounter ID\n",
    "- patient_nbr : Patient nbr code                \n",
    "- race : Race                           \n",
    "- gender : Gender                     \n",
    "- age : Age in categories                            \n",
    "- weight : Weight                         \n",
    "- admission_type_id : admission id          \n",
    "- discharge_disposition_id : dishacharge id       \n",
    "- admission_source_id  : source id           \n",
    "- time_in_hospital : time spent in hospital             \n",
    "- payer_code  : payer code\n",
    "- medical_specialty : Medical Specialty\n",
    "- diag_1 : diagnosis 1\n",
    "- diag_2 : diagnosis 2\n",
    "- diag_3 : diagnosis 3\n",
    "- number_diagnoses : Total diagnosis\n",
    "- max_glu_serum  : Max Gluten level\n",
    "- A1Cresult  : A1 test results\n",
    "- Medication change for Different Drugs : (metformin ,repaglinide,nateglinide  chlorpropamide glimepiride acetohexamide glipizide glyburide tolbutamide pioglitazone rosiglitazone acarbose miglitol troglitazone tolazamine examide citoglipton insulin glyburide-metform glipizide-metformin glimepiride-pioglitazone  metformin-rosiglitazone metformin-pioglitone )\n",
    "- diabetesMed : Diabetic Medication\n",
    "- readmitted : Patient Readmiited or not"
   ]
  },
  {
   "cell_type": "markdown",
   "metadata": {},
   "source": [
    "### Data Pre Processing"
   ]
  },
  {
   "cell_type": "code",
   "execution_count": 2,
   "metadata": {},
   "outputs": [],
   "source": [
    "df = pd.read_csv(\"diabetic_data.csv\")"
   ]
  },
  {
   "cell_type": "code",
   "execution_count": 3,
   "metadata": {},
   "outputs": [],
   "source": [
    "# Find the nulk and na values in the columns \n",
    "totalRows = df.shape[0]\n",
    "# The columns 'weight','payer_code','medical_specialty' have more than 40% of values as \"?\" so drop them\n",
    "# Also drop other unnecassary columns such as encounterid and patient nbr\n",
    "# drop examide and citoglipton since they have same values\n",
    "droppedColumns =['encounter_id','patient_nbr','weight','payer_code','medical_specialty','citoglipton','examide']\n",
    "df = df.drop(droppedColumns, axis = 1)\n",
    "df = df[df.gender != \"Unknown/Invalid\"] #since gender has few invalid values\n",
    "\n",
    "#Dropping rows with ? in race\n",
    "df = df[df.race != \"?\"] #since gender has few invalid values\n",
    "\n",
    "#Dropping max_glu_serum and A1Cresult since 90% of the values are None \n",
    "\n",
    "#Removing other unnecassry columns with id values which does not relate to readmission prediction\n",
    "df=df.drop(['max_glu_serum','A1Cresult','admission_type_id','discharge_disposition_id','admission_source_id',\n",
    "           'diag_1','diag_2','diag_3'], axis = 1)"
   ]
  },
  {
   "cell_type": "markdown",
   "metadata": {},
   "source": [
    "### Replacing the categorical values by numeric values\n",
    "##### There is no ordinal relationship within these variables. \n",
    "##### Using get_dummies to perform One Hot encoding and dropping one of the columns from the encoded features to avoid multi collinearity"
   ]
  },
  {
   "cell_type": "code",
   "execution_count": 4,
   "metadata": {
    "scrolled": true
   },
   "outputs": [],
   "source": [
    "df = pd.get_dummies(data=df, columns=['change', 'gender','diabetesMed'], drop_first=True) \n",
    "#drop_first=True --> drops one of the column from the encoded features\n",
    "\n",
    "#Recoding the outcome variable. \n",
    "#Whether the patient is readmitted within 30 days or not.#There are 3 categories, < 30, > 30 and No.\n",
    "#To reduce this to a binary classification, we combine readmission after 30 days and no readmission into one category:\n",
    "df['readmitted'] = df['readmitted'].map({'<30': 1, '>30':0, 'NO':0})\n",
    "\n",
    "# Similarly encoded different drugs with numerical values\n",
    "                                        \n",
    "#Replacing Categorical Values with Numerical Values with one hod encoding\n",
    "drugsNames = ['metformin', 'repaglinide', 'nateglinide', 'chlorpropamide', 'glimepiride',\n",
    "        'acetohexamide', 'glipizide', 'glyburide', 'tolbutamide','pioglitazone',\n",
    "        'rosiglitazone','acarbose','miglitol','troglitazone','tolazamide',\n",
    "        'insulin','glyburide-metformin','glipizide-metformin','glimepiride-pioglitazone','metformin-pioglitazone',\n",
    "        'metformin-rosiglitazone']\n",
    "\n",
    "for drug in drugsNames:\n",
    "    df[drug] = df[drug].map({'Steady': 1, 'Up':1, 'Down':1, 'No': 0})"
   ]
  },
  {
   "cell_type": "markdown",
   "metadata": {},
   "source": [
    "#### Splitting Age into different categories and converting it into numerical values"
   ]
  },
  {
   "cell_type": "code",
   "execution_count": 5,
   "metadata": {},
   "outputs": [],
   "source": [
    "# Mapping ages to different categories\n",
    "ageByCategories = {'[0-10)':'kids', \n",
    "                   '[10-20)':'teens', \n",
    "                   '[20-30)':'adults', '[30-40)':'adults', '[40-50)':'adults', '[50-60)':'adults', \n",
    "                   '[60-70)':'elderly', '[70-80)':'elderly', '[80-90)':'elderly', '[90-100)':'elderly'}\n",
    "df['age'] = df['age'].map(ageByCategories)\n",
    "#Converting Race and Age which are categorical into numerical values\n",
    "df = pd.get_dummies(data=df, columns=['race','age'], drop_first=True)"
   ]
  },
  {
   "cell_type": "code",
   "execution_count": 6,
   "metadata": {},
   "outputs": [],
   "source": [
    "#df.to_csv('./processedData.csv')"
   ]
  },
  {
   "cell_type": "markdown",
   "metadata": {},
   "source": [
    "### Box plot to show distrubution of values in the numerical columns"
   ]
  },
  {
   "cell_type": "code",
   "execution_count": 7,
   "metadata": {},
   "outputs": [
    {
     "data": {
      "image/png": "[encoded data removed]",
      "text/plain": [
       "<Figure size 576x576 with 1 Axes>"
      ]
     },
     "metadata": {
      "needs_background": "light"
     },
     "output_type": "display_data"
    },
    {
     "name": "stdout",
     "output_type": "stream",
     "text": [
      "Shape after removing outlier is  (22612, 40)\n"
     ]
    }
   ],
   "source": [
    "numericalColumns = ['time_in_hospital','num_lab_procedures','num_procedures','num_medications','number_outpatient',\n",
    "                   'number_emergency','number_inpatient','number_diagnoses']\n",
    "allColumns = df.columns\n",
    "categoricalColumns = []\n",
    "for c in allColumns:\n",
    "    if c not in numericalColumns:\n",
    "        categoricalColumns.append(c)\n",
    "        df[c] = df[c].astype('object')\n",
    "categoricalColumns.remove('readmitted')\n",
    "\n",
    "boxplot = df.boxplot(column=numericalColumns,rot=90,fontsize=10,figsize=(8,8))\n",
    "plt.show()\n",
    "#This shows the outliers in each column and outliers has to be removed\n",
    "df_Copy=df\n",
    "for c in numericalColumns:\n",
    "    col = df_Copy[c]\n",
    "    d = df_Copy[col.between(col.quantile(.15), col.quantile(.85))] # without outliers\n",
    "    df_Copy=d\n",
    "print(\"Shape after removing outlier is \",d.shape)"
   ]
  },
  {
   "cell_type": "code",
   "execution_count": 8,
   "metadata": {},
   "outputs": [
    {
     "data": {
      "text/html": [
       "<div>\n",
       "<style scoped>\n",
       "    .dataframe tbody tr th:only-of-type {\n",
       "        vertical-align: middle;\n",
       "    }\n",
       "\n",
       "    .dataframe tbody tr th {\n",
       "        vertical-align: top;\n",
       "    }\n",
       "\n",
       "    .dataframe thead th {\n",
       "        text-align: right;\n",
       "    }\n",
       "</style>\n",
       "<table border=\"1\" class=\"dataframe\">\n",
       "  <thead>\n",
       "    <tr style=\"text-align: right;\">\n",
       "      <th></th>\n",
       "      <th>time_in_hospital</th>\n",
       "      <th>num_lab_procedures</th>\n",
       "      <th>num_procedures</th>\n",
       "      <th>num_medications</th>\n",
       "      <th>number_outpatient</th>\n",
       "      <th>number_emergency</th>\n",
       "      <th>number_inpatient</th>\n",
       "      <th>number_diagnoses</th>\n",
       "    </tr>\n",
       "  </thead>\n",
       "  <tbody>\n",
       "    <tr>\n",
       "      <th>count</th>\n",
       "      <td>22612.000000</td>\n",
       "      <td>22612.000000</td>\n",
       "      <td>22612.000000</td>\n",
       "      <td>22612.000000</td>\n",
       "      <td>22612.000000</td>\n",
       "      <td>22612.0</td>\n",
       "      <td>22612.000000</td>\n",
       "      <td>22612.000000</td>\n",
       "    </tr>\n",
       "    <tr>\n",
       "      <th>mean</th>\n",
       "      <td>4.056121</td>\n",
       "      <td>45.028657</td>\n",
       "      <td>0.809526</td>\n",
       "      <td>14.671148</td>\n",
       "      <td>0.070140</td>\n",
       "      <td>0.0</td>\n",
       "      <td>0.236335</td>\n",
       "      <td>7.725057</td>\n",
       "    </tr>\n",
       "    <tr>\n",
       "      <th>std</th>\n",
       "      <td>1.724973</td>\n",
       "      <td>10.471177</td>\n",
       "      <td>1.019613</td>\n",
       "      <td>3.689335</td>\n",
       "      <td>0.255388</td>\n",
       "      <td>0.0</td>\n",
       "      <td>0.424839</td>\n",
       "      <td>1.504400</td>\n",
       "    </tr>\n",
       "    <tr>\n",
       "      <th>min</th>\n",
       "      <td>2.000000</td>\n",
       "      <td>23.000000</td>\n",
       "      <td>0.000000</td>\n",
       "      <td>9.000000</td>\n",
       "      <td>0.000000</td>\n",
       "      <td>0.0</td>\n",
       "      <td>0.000000</td>\n",
       "      <td>5.000000</td>\n",
       "    </tr>\n",
       "    <tr>\n",
       "      <th>25%</th>\n",
       "      <td>3.000000</td>\n",
       "      <td>37.000000</td>\n",
       "      <td>0.000000</td>\n",
       "      <td>12.000000</td>\n",
       "      <td>0.000000</td>\n",
       "      <td>0.0</td>\n",
       "      <td>0.000000</td>\n",
       "      <td>6.000000</td>\n",
       "    </tr>\n",
       "    <tr>\n",
       "      <th>50%</th>\n",
       "      <td>4.000000</td>\n",
       "      <td>45.000000</td>\n",
       "      <td>0.000000</td>\n",
       "      <td>14.000000</td>\n",
       "      <td>0.000000</td>\n",
       "      <td>0.0</td>\n",
       "      <td>0.000000</td>\n",
       "      <td>8.000000</td>\n",
       "    </tr>\n",
       "    <tr>\n",
       "      <th>75%</th>\n",
       "      <td>5.000000</td>\n",
       "      <td>54.000000</td>\n",
       "      <td>1.000000</td>\n",
       "      <td>17.000000</td>\n",
       "      <td>0.000000</td>\n",
       "      <td>0.0</td>\n",
       "      <td>0.000000</td>\n",
       "      <td>9.000000</td>\n",
       "    </tr>\n",
       "    <tr>\n",
       "      <th>max</th>\n",
       "      <td>8.000000</td>\n",
       "      <td>63.000000</td>\n",
       "      <td>3.000000</td>\n",
       "      <td>22.000000</td>\n",
       "      <td>1.000000</td>\n",
       "      <td>0.0</td>\n",
       "      <td>1.000000</td>\n",
       "      <td>9.000000</td>\n",
       "    </tr>\n",
       "  </tbody>\n",
       "</table>\n",
       "</div>"
      ],
      "text/plain": [
       "       time_in_hospital  num_lab_procedures  num_procedures  num_medications  \\\n",
       "count      22612.000000        22612.000000    22612.000000     22612.000000   \n",
       "mean           4.056121           45.028657        0.809526        14.671148   \n",
       "std            1.724973           10.471177        1.019613         3.689335   \n",
       "min            2.000000           23.000000        0.000000         9.000000   \n",
       "25%            3.000000           37.000000        0.000000        12.000000   \n",
       "50%            4.000000           45.000000        0.000000        14.000000   \n",
       "75%            5.000000           54.000000        1.000000        17.000000   \n",
       "max            8.000000           63.000000        3.000000        22.000000   \n",
       "\n",
       "       number_outpatient  number_emergency  number_inpatient  number_diagnoses  \n",
       "count       22612.000000           22612.0      22612.000000      22612.000000  \n",
       "mean            0.070140               0.0          0.236335          7.725057  \n",
       "std             0.255388               0.0          0.424839          1.504400  \n",
       "min             0.000000               0.0          0.000000          5.000000  \n",
       "25%             0.000000               0.0          0.000000          6.000000  \n",
       "50%             0.000000               0.0          0.000000          8.000000  \n",
       "75%             0.000000               0.0          0.000000          9.000000  \n",
       "max             1.000000               0.0          1.000000          9.000000  "
      ]
     },
     "execution_count": 8,
     "metadata": {},
     "output_type": "execute_result"
    }
   ],
   "source": [
    "d.describe()"
   ]
  },
  {
   "cell_type": "code",
   "execution_count": 9,
   "metadata": {},
   "outputs": [
    {
     "data": {
      "image/png": "[encoded data removed]",
      "text/plain": [
       "<Figure size 720x720 with 2 Axes>"
      ]
     },
     "metadata": {
      "needs_background": "light"
     },
     "output_type": "display_data"
    }
   ],
   "source": [
    "corr_df = df[numericalColumns]\n",
    "cor_mat = corr_df.corr()\n",
    "mask = np.array(cor_mat)\n",
    "mask[np.tril_indices_from(mask)] = False\n",
    "fig = plt.gcf()\n",
    "fig.set_size_inches(10,10)\n",
    "sns.heatmap(data=cor_mat, mask=mask, square=True, annot=True, cbar=True)\n",
    "plt.show()"
   ]
  },
  {
   "cell_type": "markdown",
   "metadata": {},
   "source": [
    "### Cross Validation Train-Test Split"
   ]
  },
  {
   "cell_type": "code",
   "execution_count": 10,
   "metadata": {},
   "outputs": [],
   "source": [
    "x = d.drop(['readmitted'],axis=1)\n",
    "y = d['readmitted']\n",
    "y=y.astype('int')"
   ]
  },
  {
   "cell_type": "code",
   "execution_count": 11,
   "metadata": {},
   "outputs": [],
   "source": [
    "#Using minmax scaler to perform scaling on the numerical columns.Also the data is not normally distributed \n",
    "#Each numerical features are now on a common range from 0 to 1\n",
    "\n",
    "scaler = MinMaxScaler()\n",
    "\n",
    "x_train_org, x_test_org, y_train, y_test = train_test_split(x,y,random_state=0)\n",
    "\n",
    "x_train_new = scaler.fit_transform(x_train_org[numericalColumns])\n",
    "x_train_arr = np.concatenate((x_train_new, x_train_org[categoricalColumns]), axis=1)\n",
    "x_train = pd.DataFrame(data=x_train_arr, columns=x_train_org.columns)\n",
    "\n",
    "x_test_new = scaler.transform(x_test_org[numericalColumns])\n",
    "x_test_arr = np.concatenate((x_test_new, x_test_org[categoricalColumns]), axis=1)\n",
    "x_test = pd.DataFrame(data=x_test_arr, columns=x_test_org.columns)\n",
    "\n",
    "\n",
    "x_train[numericalColumns] = x_train[numericalColumns].apply(pd.to_numeric)\n",
    "x_test[numericalColumns] = x_test[numericalColumns].apply(pd.to_numeric)\n"
   ]
  },
  {
   "cell_type": "markdown",
   "metadata": {},
   "source": [
    "### Hard Voting"
   ]
  },
  {
   "cell_type": "code",
   "execution_count": 12,
   "metadata": {},
   "outputs": [
    {
     "name": "stdout",
     "output_type": "stream",
     "text": [
      "LogisticRegression 0.894746152485406\n",
      "KNeighborsClassifier 0.8747567663187688\n",
      "VotingClassifier 0.894746152485406\n"
     ]
    }
   ],
   "source": [
    "log_clf = LogisticRegression(penalty = 'l1', C = 10, random_state = 0,solver='liblinear')\n",
    "log_clf.fit(x_train, y_train)\n",
    "\n",
    "knn_clf = KNeighborsClassifier(n_neighbors=3)\n",
    "knn_clf.fit(x_train, y_train)\n",
    "\n",
    "voting_clf = VotingClassifier(estimators=[('lr', log_clf), ('knn', knn_clf)],voting='hard')\n",
    "voting_clf.fit(x_train, y_train)\n",
    "\n",
    "from sklearn.metrics import accuracy_score\n",
    "for clf in (log_clf, knn_clf, voting_clf):\n",
    "    clf.fit(x_train, y_train)\n",
    "    y_pred = clf.predict(x_test)\n",
    "    print(clf.__class__.__name__, accuracy_score(y_test, y_pred))"
   ]
  },
  {
   "cell_type": "markdown",
   "metadata": {},
   "source": [
    "### Soft Voting"
   ]
  },
  {
   "cell_type": "code",
   "execution_count": 13,
   "metadata": {},
   "outputs": [
    {
     "name": "stdout",
     "output_type": "stream",
     "text": [
      "LogisticRegression 0.894746152485406\n",
      "KNeighborsClassifier 0.8747567663187688\n",
      "VotingClassifier 0.8933309747036972\n"
     ]
    }
   ],
   "source": [
    "log_clf = LogisticRegression(penalty = 'l1', C = 10, random_state = 0,solver='liblinear')\n",
    "log_clf.fit(x_train, y_train)\n",
    "\n",
    "knn_clf = KNeighborsClassifier(n_neighbors=3)\n",
    "knn_clf.fit(x_train, y_train)\n",
    "\n",
    "voting_clf = VotingClassifier(estimators=[('lr', log_clf), ('knn', knn_clf)],voting='soft')\n",
    "voting_clf.fit(x_train, y_train)\n",
    "\n",
    "from sklearn.metrics import accuracy_score\n",
    "for clf in (log_clf, knn_clf, voting_clf):\n",
    "    clf.fit(x_train, y_train)\n",
    "    y_pred = clf.predict(x_test)\n",
    "    print(clf.__class__.__name__, accuracy_score(y_test, y_pred))"
   ]
  },
  {
   "cell_type": "markdown",
   "metadata": {},
   "source": [
    "### Bagging"
   ]
  },
  {
   "cell_type": "code",
   "execution_count": 14,
   "metadata": {},
   "outputs": [
    {
     "name": "stdout",
     "output_type": "stream",
     "text": [
      "Decision Tree - Bagging\n",
      "Train score: 0.900\n",
      "Test score: 0.895\n"
     ]
    }
   ],
   "source": [
    "dt_clf = DecisionTreeClassifier(random_state=0)\n",
    "bag_clf1 = BaggingClassifier(dt_clf, n_estimators=300, max_samples=2000, bootstrap=True, n_jobs=-1, random_state=0)\n",
    "bag_clf1.fit(x_train, y_train)\n",
    "print('Decision Tree - Bagging')\n",
    "print('Train score: {:.3f}'.format(bag_clf1.score(x_train, y_train)))\n",
    "print('Test score: {:.3f}'.format(bag_clf1.score(x_test, y_test)))"
   ]
  },
  {
   "cell_type": "code",
   "execution_count": 15,
   "metadata": {},
   "outputs": [
    {
     "name": "stdout",
     "output_type": "stream",
     "text": [
      "SVC - Bagging\n",
      "Train score: 0.899\n",
      "Test score: 0.895\n"
     ]
    }
   ],
   "source": [
    "svclinear = SVC(kernel='linear')\n",
    "bag_clf2 = BaggingClassifier(svclinear, n_estimators=100, max_samples=500, bootstrap=True, n_jobs=-1, random_state=0)\n",
    "bag_clf2.fit(x_train, y_train)\n",
    "print('SVC - Bagging')\n",
    "print('Train score: {:.3f}'.format(bag_clf2.score(x_train, y_train)))\n",
    "print('Test score: {:.3f}'.format(bag_clf2.score(x_test, y_test)))"
   ]
  },
  {
   "cell_type": "markdown",
   "metadata": {},
   "source": [
    "### Pasting"
   ]
  },
  {
   "cell_type": "code",
   "execution_count": 16,
   "metadata": {},
   "outputs": [
    {
     "name": "stdout",
     "output_type": "stream",
     "text": [
      "KNN claasifier - Pasting\n",
      "Train score: 0.899\n",
      "Test score: 0.895\n"
     ]
    }
   ],
   "source": [
    "knn_clf = KNeighborsClassifier(n_neighbors=3)\n",
    "bag_clf3 = BaggingClassifier(knn_clf, n_estimators=100, max_samples=500, bootstrap=False, n_jobs=-1, random_state=0)\n",
    "bag_clf3.fit(x_train, y_train)\n",
    "print('KNN claasifier - Pasting')\n",
    "print('Train score: {:.3f}'.format(bag_clf3.score(x_train, y_train)))\n",
    "print('Test score: {:.3f}'.format(bag_clf3.score(x_test, y_test)))"
   ]
  },
  {
   "cell_type": "code",
   "execution_count": 17,
   "metadata": {},
   "outputs": [
    {
     "name": "stdout",
     "output_type": "stream",
     "text": [
      "Logistic Classifier - Pasting\n",
      "Train score: 0.899\n",
      "Test score: 0.895\n"
     ]
    }
   ],
   "source": [
    "log_clf = LogisticRegression(solver='liblinear')\n",
    "bag_clf4 = BaggingClassifier(log_clf, n_estimators=100, max_samples=2000, bootstrap=False, n_jobs=-1, random_state=0)\n",
    "bag_clf4.fit(x_train, y_train)\n",
    "print('Logistic Classifier - Pasting')\n",
    "print('Train score: {:.3f}'.format(bag_clf4.score(x_train, y_train)))\n",
    "print('Test score: {:.3f}'.format(bag_clf4.score(x_test, y_test)))"
   ]
  },
  {
   "cell_type": "markdown",
   "metadata": {},
   "source": [
    "### Adaboost Boosting\n"
   ]
  },
  {
   "cell_type": "code",
   "execution_count": 18,
   "metadata": {},
   "outputs": [
    {
     "name": "stdout",
     "output_type": "stream",
     "text": [
      "Decision Tree - AdaBoost Classifier\n",
      "Test score: 0.895\n",
      "              precision    recall  f1-score   support\n",
      "\n",
      "           0     0.8949    0.9998    0.9444      5059\n",
      "           1     0.0000    0.0000    0.0000       594\n",
      "\n",
      "    accuracy                         0.8947      5653\n",
      "   macro avg     0.4475    0.4999    0.4722      5653\n",
      "weighted avg     0.8009    0.8947    0.8452      5653\n",
      "\n"
     ]
    }
   ],
   "source": [
    "ada_clf = AdaBoostClassifier(DecisionTreeClassifier(max_depth=1), n_estimators=200, algorithm=\"SAMME.R\", learning_rate=0.5, random_state=0)\n",
    "ada_clf.fit(x_train, y_train)\n",
    "print('Decision Tree - AdaBoost Classifier')\n",
    "print('Test score: {:.3f}'.format(ada_clf.score(x_test, y_test)))\n",
    "print(classification_report(y_test, ada_clf.predict(x_test), digits=4))"
   ]
  },
  {
   "cell_type": "code",
   "execution_count": 19,
   "metadata": {},
   "outputs": [
    {
     "name": "stdout",
     "output_type": "stream",
     "text": [
      "Linear SVC - AdaBoost Classifier\n",
      "Test score: 0.895\n"
     ]
    }
   ],
   "source": [
    "svc = LinearSVC(random_state=0)\n",
    "abc =AdaBoostClassifier(n_estimators=50, base_estimator=svc,algorithm=\"SAMME\",learning_rate=1)\n",
    "abc.fit(x_train, y_train)\n",
    "print('Linear SVC - AdaBoost Classifier')\n",
    "print('Test score: {:.3f}'.format(abc.score(x_test, y_test)))"
   ]
  },
  {
   "cell_type": "markdown",
   "metadata": {},
   "source": [
    "### Gradient Boosting"
   ]
  },
  {
   "cell_type": "code",
   "execution_count": 20,
   "metadata": {},
   "outputs": [
    {
     "name": "stdout",
     "output_type": "stream",
     "text": [
      "Accuracy on training set: 0.900\n",
      "Accuracy on test set: 0.895\n"
     ]
    }
   ],
   "source": [
    "gbrt = GradientBoostingClassifier(random_state=0, learning_rate=0.01)\n",
    "gbrt.fit(x_train, y_train)\n",
    "print(\"Accuracy on training set: {:.3f}\".format(gbrt.score(x_train, y_train)))\n",
    "print(\"Accuracy on test set: {:.3f}\".format(gbrt.score(x_test, y_test)))"
   ]
  },
  {
   "cell_type": "markdown",
   "metadata": {
    "scrolled": true
   },
   "source": [
    "### PCA"
   ]
  },
  {
   "cell_type": "code",
   "execution_count": 21,
   "metadata": {},
   "outputs": [
    {
     "data": {
      "text/plain": [
       "18"
      ]
     },
     "execution_count": 21,
     "metadata": {},
     "output_type": "execute_result"
    }
   ],
   "source": [
    "pca = PCA(n_components=0.95)\n",
    "x_train = pca.fit_transform(x_train)\n",
    "x_test = pca.transform(x_test)\n",
    "pca.n_components_"
   ]
  },
  {
   "cell_type": "markdown",
   "metadata": {},
   "source": [
    "### Logistic "
   ]
  },
  {
   "cell_type": "code",
   "execution_count": 22,
   "metadata": {},
   "outputs": [
    {
     "name": "stdout",
     "output_type": "stream",
     "text": [
      "Best value of C in Logistic Regression is {'C': 1.0, 'penalty': 'l1'}\n",
      "Best Accuracy of the model when C is {'C': 1.0, 'penalty': 'l1'} is 0.8994634103592751\n"
     ]
    }
   ],
   "source": [
    "logreg = LogisticRegression(solver='liblinear')\n",
    "logreg.fit(x_train, y_train)\n",
    "c_space = np.logspace(0,5,10)\n",
    "param_grid = {'C': c_space,'penalty': ['l1','l2']}\n",
    "grid1 = GridSearchCV(logreg, param_grid, cv=5,return_train_score=True)\n",
    "grid1.fit(x_train,y_train)\n",
    "print('Best value of C in Logistic Regression is ' + str(grid1.best_params_))\n",
    "print(\"Best Accuracy of the model when C is \" + str(grid1.best_params_)+ \" is \" + str(grid1.best_score_))\n",
    "result = pd.DataFrame(grid1.cv_results_)\n"
   ]
  },
  {
   "cell_type": "code",
   "execution_count": 23,
   "metadata": {},
   "outputs": [
    {
     "data": {
      "image/png": "[encoded data removed]",
      "text/plain": [
       "<Figure size 1080x360 with 1 Axes>"
      ]
     },
     "metadata": {
      "needs_background": "light"
     },
     "output_type": "display_data"
    }
   ],
   "source": [
    "%matplotlib inline\n",
    "plt.subplots(figsize = (15,5))\n",
    "plt.plot(range(result['params'].shape[0]), result['mean_train_score'], label = 'mean train score')\n",
    "plt.plot(range(result['params'].shape[0]), result['mean_test_score'], label = 'mean test score')\n",
    "plt.xticks(range(result['params'].shape[0]), result['params'], rotation = 90)\n",
    "plt.plot([grid1.best_index_], result['mean_train_score'][grid1.best_index_], 'o', markersize = 15, fillstyle = 'none')\n",
    "plt.plot([grid1.best_index_], result['mean_test_score'][grid1.best_index_], 'o', markersize = 15, fillstyle = 'none')\n",
    "plt.legend()\n",
    "plt.grid()"
   ]
  },
  {
   "cell_type": "code",
   "execution_count": 24,
   "metadata": {},
   "outputs": [
    {
     "name": "stdout",
     "output_type": "stream",
     "text": [
      "Accuracy on test set: 0.895\n",
      "[[5059    0]\n",
      " [ 594    0]]\n",
      "              precision    recall  f1-score   support\n",
      "\n",
      "           0       0.89      1.00      0.94      5059\n",
      "           1       0.00      0.00      0.00       594\n",
      "\n",
      "    accuracy                           0.89      5653\n",
      "   macro avg       0.45      0.50      0.47      5653\n",
      "weighted avg       0.80      0.89      0.85      5653\n",
      "\n"
     ]
    }
   ],
   "source": [
    "log_l1 = LogisticRegression(C=1, penalty='l1', solver='liblinear')\n",
    "log_l1.fit(x_train, y_train)\n",
    "print('Accuracy on test set: {:.3f}'.format(log_l1.score(x_test, y_test)))\n",
    "y_pred = log_l1.predict(x_test)\n",
    "print(confusion_matrix(y_test, y_pred))\n",
    "print(classification_report(y_test, y_pred))"
   ]
  },
  {
   "cell_type": "markdown",
   "metadata": {},
   "source": [
    "## KNN Classifier"
   ]
  },
  {
   "cell_type": "code",
   "execution_count": 25,
   "metadata": {},
   "outputs": [
    {
     "name": "stdout",
     "output_type": "stream",
     "text": [
      "KNN Accuracy Train: 0.8994634117577688\n",
      "KNN Accuracy Test: 0.8745798690960552\n"
     ]
    },
    {
     "data": {
      "image/png": "[encoded data removed]",
      "text/plain": [
       "<Figure size 432x288 with 1 Axes>"
      ]
     },
     "metadata": {
      "needs_background": "light"
     },
     "output_type": "display_data"
    }
   ],
   "source": [
    "knn = KNeighborsClassifier(n_neighbors=3)\n",
    "knn.fit(x_train, y_train)\n",
    "y_pred = knn.predict(x_test)\n",
    "y_pred_train = logreg.predict(x_train)\n",
    "print(\"KNN Accuracy Train:\",metrics.accuracy_score(y_train, y_pred_train))\n",
    "print(\"KNN Accuracy Test:\",metrics.accuracy_score(y_test, y_pred))\n",
    "\n",
    "k_scores=[]\n",
    "k_range = range(1,7)\n",
    "for k in k_range:\n",
    "    knn= KNeighborsClassifier(n_neighbors=k)\n",
    "    k_scores.append(cross_val_score(knn,x,y,cv=3).mean())\n",
    "\n",
    "plt.plot(k_range,k_scores)\n",
    "plt.xlabel('Value of K')\n",
    "plt.ylabel('Cross-Validated Scores')\n",
    "plt.show()"
   ]
  },
  {
   "cell_type": "code",
   "execution_count": 26,
   "metadata": {},
   "outputs": [],
   "source": [
    "from sklearn.neighbors import KNeighborsClassifier\n",
    "\n",
    "train_score_array = []\n",
    "test_score_array = []\n",
    "\n",
    "for k in range(1,7):\n",
    "    knn = KNeighborsClassifier(k)\n",
    "    knn.fit(x_train, y_train)\n",
    "    train_score_array.append(knn.score(x_train, y_train))\n",
    "    test_score_array.append(knn.score(x_test, y_test))"
   ]
  },
  {
   "cell_type": "code",
   "execution_count": 27,
   "metadata": {},
   "outputs": [
    {
     "data": {
      "text/plain": [
       "<matplotlib.legend.Legend at 0x22b51309cc0>"
      ]
     },
     "execution_count": 27,
     "metadata": {},
     "output_type": "execute_result"
    },
    {
     "data": {
      "image/png": "[encoded data removed]",
      "text/plain": [
       "<Figure size 432x288 with 1 Axes>"
      ]
     },
     "metadata": {
      "needs_background": "light"
     },
     "output_type": "display_data"
    }
   ],
   "source": [
    "x_axis = range(1,7)\n",
    "%matplotlib inline\n",
    "plt.plot(x_axis, train_score_array, label = 'Train Score', c = 'r')\n",
    "plt.plot(x_axis, test_score_array, label = 'Test Score', c='b')\n",
    "plt.xlabel('k')\n",
    "plt.ylabel('Accuracy')\n",
    "plt.legend()"
   ]
  },
  {
   "cell_type": "code",
   "execution_count": 28,
   "metadata": {},
   "outputs": [
    {
     "name": "stdout",
     "output_type": "stream",
     "text": [
      "Accuracy on train set: 0.900\n",
      "Accuracy on test set: 0.894\n",
      "[[5051    8]\n",
      " [ 594    0]]\n",
      "              precision    recall  f1-score   support\n",
      "\n",
      "           0       0.89      1.00      0.94      5059\n",
      "           1       0.00      0.00      0.00       594\n",
      "\n",
      "    accuracy                           0.89      5653\n",
      "   macro avg       0.45      0.50      0.47      5653\n",
      "weighted avg       0.80      0.89      0.84      5653\n",
      "\n"
     ]
    }
   ],
   "source": [
    "from sklearn.neighbors import KNeighborsClassifier\n",
    "knn = KNeighborsClassifier(n_neighbors=6)\n",
    "knn.fit(x_train, y_train)\n",
    "print('Accuracy on train set: {:.3f}'.format(knn.score(x_train, y_train)))\n",
    "print('Accuracy on test set: {:.3f}'.format(knn.score(x_test, y_test)))\n",
    "y_pred = knn.predict(x_test)\n",
    "print(confusion_matrix(y_test, y_pred))\n",
    "print(classification_report(y_test, y_pred))"
   ]
  },
  {
   "cell_type": "markdown",
   "metadata": {},
   "source": [
    "## Decision Tree Classifier"
   ]
  },
  {
   "cell_type": "code",
   "execution_count": 29,
   "metadata": {},
   "outputs": [
    {
     "name": "stdout",
     "output_type": "stream",
     "text": [
      "Fitting 3 folds for each of 60 candidates, totalling 180 fits\n"
     ]
    },
    {
     "name": "stderr",
     "output_type": "stream",
     "text": [
      "[Parallel(n_jobs=1)]: Using backend SequentialBackend with 1 concurrent workers.\n"
     ]
    },
    {
     "name": "stdout",
     "output_type": "stream",
     "text": [
      "0.8994634117577687\n",
      "{'criterion': 'gini', 'max_depth': 1, 'min_samples_split': 2}\n",
      "DecisionTreeClassifier(ccp_alpha=0.0, class_weight=None, criterion='gini',\n",
      "                       max_depth=1, max_features=None, max_leaf_nodes=None,\n",
      "                       min_impurity_decrease=0.0, min_impurity_split=None,\n",
      "                       min_samples_leaf=1, min_samples_split=2,\n",
      "                       min_weight_fraction_leaf=0.0, presort='deprecated',\n",
      "                       random_state=42, splitter='best')\n"
     ]
    },
    {
     "name": "stderr",
     "output_type": "stream",
     "text": [
      "[Parallel(n_jobs=1)]: Done 180 out of 180 | elapsed:   43.4s finished\n"
     ]
    }
   ],
   "source": [
    "tree_para = {'criterion':['gini','entropy'],\n",
    "             'max_depth': range(1,20,2),\n",
    "             'min_samples_split': [2, 3, 4]\n",
    "            }\n",
    "clf_cv = GridSearchCV(DecisionTreeClassifier(random_state=42), tree_para, verbose=1, cv=3)\n",
    "clf_cv.fit(x_train, y_train)\n",
    "\n",
    "# Single best score achieved across all params (min_samples_split)\n",
    "print(clf_cv.best_score_)\n",
    "\n",
    "# Dictionary containing the parameter to generate that score\n",
    "print(clf_cv.best_params_)\n",
    "\n",
    "# Actual model object fit with those best parameters\n",
    "print(clf_cv.best_estimator_)\n",
    "clf_new = clf_cv.best_estimator_"
   ]
  },
  {
   "cell_type": "code",
   "execution_count": 30,
   "metadata": {},
   "outputs": [
    {
     "name": "stdout",
     "output_type": "stream",
     "text": [
      "Test Score 0.8949230497081195\n",
      "[[5059    0]\n",
      " [ 594    0]]\n"
     ]
    }
   ],
   "source": [
    "dt = DecisionTreeClassifier(criterion = 'gini',min_samples_split= 2,max_depth=1,random_state = 42)\n",
    "dt.fit(x_train, y_train)\n",
    "y_pred = dt.predict(x_test)\n",
    "print(\"Test Score\",metrics.accuracy_score(y_test, y_pred))\n",
    "print(confusion_matrix(y_test, y_pred))"
   ]
  },
  {
   "cell_type": "markdown",
   "metadata": {},
   "source": [
    "## Support Vector Machines"
   ]
  },
  {
   "cell_type": "code",
   "execution_count": 31,
   "metadata": {
    "scrolled": true
   },
   "outputs": [
    {
     "name": "stdout",
     "output_type": "stream",
     "text": [
      "SVM (poly) Accuracy: 0.8949230497081195\n"
     ]
    }
   ],
   "source": [
    "svcpoly = SVC(kernel='poly', degree=3, gamma='auto')\n",
    "svcpoly.fit(x_train, y_train)\n",
    "y_pred = svcpoly.predict(x_test)\n",
    "print(\"SVM (poly) Accuracy:\",metrics.accuracy_score(y_test, y_pred))"
   ]
  },
  {
   "cell_type": "code",
   "execution_count": 32,
   "metadata": {},
   "outputs": [
    {
     "name": "stdout",
     "output_type": "stream",
     "text": [
      "SVM (Linear) Accuracy : 0.8949230497081195\n"
     ]
    }
   ],
   "source": [
    "svclinear = SVC(kernel='linear')\n",
    "svclinear.fit(x_train, y_train)\n",
    "y_pred = svclinear.predict(x_test)\n",
    "print(\"SVM (Linear) Accuracy :\",metrics.accuracy_score(y_test, y_pred))"
   ]
  },
  {
   "cell_type": "code",
   "execution_count": 33,
   "metadata": {},
   "outputs": [
    {
     "name": "stdout",
     "output_type": "stream",
     "text": [
      "SVM (rbf) Accuracy: 0.894746152485406\n"
     ]
    }
   ],
   "source": [
    "svcrbf = SVC(kernel='rbf', gamma=1, C=1)\n",
    "svcrbf.fit(x_train, y_train)\n",
    "y_pred = svcrbf.predict(x_test)\n",
    "print(\"SVM (rbf) Accuracy:\",metrics.accuracy_score(y_test, y_pred))"
   ]
  },
  {
   "cell_type": "code",
   "execution_count": 34,
   "metadata": {},
   "outputs": [
    {
     "name": "stdout",
     "output_type": "stream",
     "text": [
      "{'C': 1000}\n",
      "0.4844120982303098\n"
     ]
    }
   ],
   "source": [
    "param_grid = {'C':[0.01, 0.1, 1, 10, 100, 1000]}\n",
    "\n",
    "linearSVC_grid = GridSearchCV(LinearSVC(), \n",
    "                     param_grid, cv =5 , return_train_score= True,scoring = 'f1_macro', iid = False)\n",
    "linearSVC_grid.fit(x_train, y_train)\n",
    "print(linearSVC_grid.best_params_)\n",
    "print(linearSVC_grid.best_score_)\n"
   ]
  },
  {
   "cell_type": "markdown",
   "metadata": {},
   "source": [
    "### Result"
   ]
  },
  {
   "cell_type": "markdown",
   "metadata": {},
   "source": [
    "| Method | Models Used | Accuracy |\n",
    "|------|------|------|\n",
    "|   Hard Voting  | LogisticRegression,KNN |   0.894  |\n",
    "|   Soft Voting  | LogisticRegression,KNN |   0.893   |\n",
    "|   Bagging  | DecisionTreeClassifier |   0.895  |\n",
    "|   Bagging  | SVC Linear |   0.895  |\n",
    "|   Pasting  | KNN  |   0.895  |\n",
    "|   Pasting | Logisitc |   0.895  |\n",
    "|   AdaBoost  | DecisionTreeClassifier |   0.89  |\n",
    "|   AdaBoost  | Linear SVC |   0.89  |\n",
    "|   GradientBoosting  | GradientBoosting |    0.895  |"
   ]
  },
  {
   "cell_type": "markdown",
   "metadata": {},
   "source": [
    "| Model | Accuracy before PCA | Accuracy after PCA |\n",
    "|------|-----|------|\n",
    "|   Logistic Regression  |   0.8957 | 0.8950   |\n",
    "|   KNN  | 0.8688    | 0.8940    |\n",
    "|   DecisionTreeClassifier  |  0.8957   | 0.8949 |\n",
    "|   RBF Kernel  |  0.8932   | 0.8947   |\n",
    "|   Poly Kernel  | 0.8932   |  0.8949   |\n",
    "|   Linear Kernel  | 0.8933   |   0.8949   |\n",
    "|   LinearSVM  | 0.4753   |   0.4823   |\n"
   ]
  },
  {
   "cell_type": "markdown",
   "metadata": {},
   "source": [
    "## Does PCA help? Which model gives the best results?\n",
    "\n",
    "PCA has not helped much, the accuracy scores are almost similar after performing PCA. It has helped improve LinearSVM from 47.53 % to 48.23 %. The Logistic Regression model after PCA has the best accuracy with 89.5 %"
   ]
  },
  {
   "cell_type": "markdown",
   "metadata": {},
   "source": [
    "### Neural Networks"
   ]
  },
  {
   "cell_type": "code",
   "execution_count": 35,
   "metadata": {},
   "outputs": [],
   "source": [
    "x_train = x_train_arr\n",
    "x_test = x_test_arr"
   ]
  },
  {
   "cell_type": "code",
   "execution_count": 36,
   "metadata": {},
   "outputs": [
    {
     "name": "stdout",
     "output_type": "stream",
     "text": [
      "(16959, 39)\n"
     ]
    }
   ],
   "source": [
    "print(x_train.shape)"
   ]
  },
  {
   "cell_type": "code",
   "execution_count": 37,
   "metadata": {},
   "outputs": [
    {
     "name": "stderr",
     "output_type": "stream",
     "text": [
      "Using TensorFlow backend.\n"
     ]
    }
   ],
   "source": [
    "import tensorflow as tf\n",
    "from keras.models import Sequential\n",
    "from keras.layers import Dense\n",
    "from keras.utils import to_categorical\n",
    "from keras.callbacks import EarlyStopping"
   ]
  },
  {
   "cell_type": "code",
   "execution_count": 38,
   "metadata": {},
   "outputs": [],
   "source": [
    "model = Sequential()\n",
    "model.add(Dense(12, input_dim=39, activation='relu'))\n",
    "model.add(Dense(8, activation='relu'))\n",
    "model.add(Dense(1, activation='sigmoid'))"
   ]
  },
  {
   "cell_type": "code",
   "execution_count": 39,
   "metadata": {},
   "outputs": [],
   "source": [
    "model.compile(loss='binary_crossentropy', optimizer='adam', metrics=['accuracy'])"
   ]
  },
  {
   "cell_type": "code",
   "execution_count": 40,
   "metadata": {},
   "outputs": [
    {
     "name": "stdout",
     "output_type": "stream",
     "text": [
      "Epoch 1/150\n",
      "16959/16959 [==============================] - 2s 94us/step - loss: 0.3411 - accuracy: 0.8982\n",
      "Epoch 2/150\n",
      "16959/16959 [==============================] - 2s 89us/step - loss: 0.3275 - accuracy: 0.8995\n",
      "Epoch 3/150\n",
      "16959/16959 [==============================] - 2s 91us/step - loss: 0.3248 - accuracy: 0.8995 0s - l\n",
      "Epoch 4/150\n",
      "16959/16959 [==============================] - 1s 88us/step - loss: 0.3236 - accuracy: 0.8995\n",
      "Epoch 5/150\n",
      "16959/16959 [==============================] - 2s 89us/step - loss: 0.3228 - accuracy: 0.8995\n",
      "Epoch 6/150\n",
      "16959/16959 [==============================] - 2s 89us/step - loss: 0.3225 - accuracy: 0.8995\n",
      "Epoch 7/150\n",
      "16959/16959 [==============================] - 2s 90us/step - loss: 0.3217 - accuracy: 0.8995\n",
      "Epoch 8/150\n",
      "16959/16959 [==============================] - 2s 89us/step - loss: 0.3217 - accuracy: 0.8995\n",
      "Epoch 9/150\n",
      "16959/16959 [==============================] - 2s 89us/step - loss: 0.3211 - accuracy: 0.8995\n",
      "Epoch 10/150\n",
      "16959/16959 [==============================] - 1s 88us/step - loss: 0.3208 - accuracy: 0.8995\n",
      "Epoch 11/150\n",
      "16959/16959 [==============================] - 1s 87us/step - loss: 0.3207 - accuracy: 0.8995\n",
      "Epoch 12/150\n",
      "16959/16959 [==============================] - 1s 88us/step - loss: 0.3205 - accuracy: 0.8995\n",
      "Epoch 13/150\n",
      "16959/16959 [==============================] - 2s 89us/step - loss: 0.3203 - accuracy: 0.8995\n",
      "Epoch 14/150\n",
      "16959/16959 [==============================] - 2s 89us/step - loss: 0.3197 - accuracy: 0.8995\n",
      "Epoch 15/150\n",
      "16959/16959 [==============================] - 2s 89us/step - loss: 0.3198 - accuracy: 0.8995\n",
      "Epoch 16/150\n",
      "16959/16959 [==============================] - 2s 89us/step - loss: 0.3193 - accuracy: 0.8995\n",
      "Epoch 17/150\n",
      "16959/16959 [==============================] - 2s 90us/step - loss: 0.3191 - accuracy: 0.8995\n",
      "Epoch 18/150\n",
      "16959/16959 [==============================] - 2s 107us/step - loss: 0.3188 - accuracy: 0.8995\n",
      "Epoch 19/150\n",
      "16959/16959 [==============================] - 2s 95us/step - loss: 0.3189 - accuracy: 0.8995 1s\n",
      "Epoch 20/150\n",
      "16959/16959 [==============================] - 2s 91us/step - loss: 0.3183 - accuracy: 0.8995\n",
      "Epoch 21/150\n",
      "16959/16959 [==============================] - 1s 88us/step - loss: 0.3182 - accuracy: 0.8995\n",
      "Epoch 22/150\n",
      "16959/16959 [==============================] - 1s 88us/step - loss: 0.3177 - accuracy: 0.8995\n",
      "Epoch 23/150\n",
      "16959/16959 [==============================] - 1s 88us/step - loss: 0.3178 - accuracy: 0.8995\n",
      "Epoch 24/150\n",
      "16959/16959 [==============================] - 2s 89us/step - loss: 0.3174 - accuracy: 0.8995\n",
      "Epoch 25/150\n",
      "16959/16959 [==============================] - 2s 90us/step - loss: 0.3172 - accuracy: 0.8996\n",
      "Epoch 26/150\n",
      "16959/16959 [==============================] - 2s 89us/step - loss: 0.3173 - accuracy: 0.8995\n",
      "Epoch 27/150\n",
      "16959/16959 [==============================] - 1s 87us/step - loss: 0.3168 - accuracy: 0.8995\n",
      "Epoch 28/150\n",
      "16959/16959 [==============================] - 1s 88us/step - loss: 0.3164 - accuracy: 0.8997\n",
      "Epoch 29/150\n",
      "16959/16959 [==============================] - 2s 89us/step - loss: 0.3162 - accuracy: 0.8995\n",
      "Epoch 30/150\n",
      "16959/16959 [==============================] - 2s 97us/step - loss: 0.3156 - accuracy: 0.8995\n",
      "Epoch 31/150\n",
      "16959/16959 [==============================] - 2s 96us/step - loss: 0.3157 - accuracy: 0.8996\n",
      "Epoch 32/150\n",
      "16959/16959 [==============================] - 2s 93us/step - loss: 0.3159 - accuracy: 0.8997\n",
      "Epoch 33/150\n",
      "16959/16959 [==============================] - 2s 100us/step - loss: 0.3157 - accuracy: 0.8996\n",
      "Epoch 34/150\n",
      "16959/16959 [==============================] - 2s 96us/step - loss: 0.3154 - accuracy: 0.8997\n",
      "Epoch 35/150\n",
      "16959/16959 [==============================] - 2s 105us/step - loss: 0.3149 - accuracy: 0.89970s - loss: 0.3085 \n",
      "Epoch 36/150\n",
      "16959/16959 [==============================] - 2s 101us/step - loss: 0.3150 - accuracy: 0.8997\n",
      "Epoch 37/150\n",
      "16959/16959 [==============================] - 2s 98us/step - loss: 0.3148 - accuracy: 0.8996\n",
      "Epoch 38/150\n",
      "16959/16959 [==============================] - 2s 91us/step - loss: 0.3146 - accuracy: 0.8998 0s - loss: 0.3117 - accu\n",
      "Epoch 39/150\n",
      "16959/16959 [==============================] - 2s 91us/step - loss: 0.3144 - accuracy: 0.8998\n",
      "Epoch 40/150\n",
      "16959/16959 [==============================] - 2s 92us/step - loss: 0.3143 - accuracy: 0.8998\n",
      "Epoch 41/150\n",
      "16959/16959 [==============================] - 2s 94us/step - loss: 0.3139 - accuracy: 0.8998\n",
      "Epoch 42/150\n",
      "16959/16959 [==============================] - 2s 92us/step - loss: 0.3141 - accuracy: 0.8998\n",
      "Epoch 43/150\n",
      "16959/16959 [==============================] - 2s 90us/step - loss: 0.3138 - accuracy: 0.8998\n",
      "Epoch 44/150\n",
      "16959/16959 [==============================] - 2s 91us/step - loss: 0.3137 - accuracy: 0.8998\n",
      "Epoch 45/150\n",
      "16959/16959 [==============================] - 2s 89us/step - loss: 0.3136 - accuracy: 0.8998\n",
      "Epoch 46/150\n",
      "16959/16959 [==============================] - 1s 88us/step - loss: 0.3135 - accuracy: 0.8998\n",
      "Epoch 47/150\n",
      "16959/16959 [==============================] - 2s 89us/step - loss: 0.3134 - accuracy: 0.8998\n",
      "Epoch 48/150\n",
      "16959/16959 [==============================] - 1s 87us/step - loss: 0.3129 - accuracy: 0.8998\n",
      "Epoch 49/150\n",
      "16959/16959 [==============================] - 2s 89us/step - loss: 0.3127 - accuracy: 0.8998\n",
      "Epoch 50/150\n",
      "16959/16959 [==============================] - 2s 90us/step - loss: 0.3123 - accuracy: 0.8999 0s - loss:\n",
      "Epoch 51/150\n",
      "16959/16959 [==============================] - 1s 88us/step - loss: 0.3124 - accuracy: 0.8998 0s - loss: 0.3077 - accu\n",
      "Epoch 52/150\n",
      "16959/16959 [==============================] - 1s 88us/step - loss: 0.3122 - accuracy: 0.8999\n",
      "Epoch 53/150\n",
      "16959/16959 [==============================] - 1s 87us/step - loss: 0.3122 - accuracy: 0.9000\n",
      "Epoch 54/150\n",
      "16959/16959 [==============================] - 2s 89us/step - loss: 0.3119 - accuracy: 0.8999\n",
      "Epoch 55/150\n",
      "16959/16959 [==============================] - 2s 89us/step - loss: 0.3112 - accuracy: 0.8998\n",
      "Epoch 56/150\n",
      "16959/16959 [==============================] - 2s 89us/step - loss: 0.3115 - accuracy: 0.9000\n",
      "Epoch 57/150\n",
      "16959/16959 [==============================] - 2s 89us/step - loss: 0.3114 - accuracy: 0.8999\n",
      "Epoch 58/150\n",
      "16959/16959 [==============================] - 2s 89us/step - loss: 0.3106 - accuracy: 0.8998\n",
      "Epoch 59/150\n",
      "16959/16959 [==============================] - 1s 88us/step - loss: 0.3109 - accuracy: 0.8999\n",
      "Epoch 60/150\n",
      "16959/16959 [==============================] - 2s 89us/step - loss: 0.3105 - accuracy: 0.8998\n",
      "Epoch 61/150\n",
      "16959/16959 [==============================] - 2s 88us/step - loss: 0.3107 - accuracy: 0.8999\n",
      "Epoch 62/150\n",
      "16959/16959 [==============================] - 1s 88us/step - loss: 0.3105 - accuracy: 0.8998\n",
      "Epoch 63/150\n",
      "16959/16959 [==============================] - 1s 87us/step - loss: 0.3101 - accuracy: 0.9001\n",
      "Epoch 64/150\n",
      "16959/16959 [==============================] - 2s 95us/step - loss: 0.3101 - accuracy: 0.8998\n",
      "Epoch 65/150\n",
      "16959/16959 [==============================] - 1s 88us/step - loss: 0.3098 - accuracy: 0.8999\n",
      "Epoch 66/150\n",
      "16959/16959 [==============================] - 1s 87us/step - loss: 0.3096 - accuracy: 0.8999\n",
      "Epoch 67/150\n",
      "16959/16959 [==============================] - 2s 90us/step - loss: 0.3095 - accuracy: 0.9000\n",
      "Epoch 68/150\n",
      "16959/16959 [==============================] - 2s 89us/step - loss: 0.3096 - accuracy: 0.9000\n",
      "Epoch 69/150\n",
      "16959/16959 [==============================] - 1s 88us/step - loss: 0.3095 - accuracy: 0.8999\n",
      "Epoch 70/150\n",
      "16959/16959 [==============================] - 2s 88us/step - loss: 0.3090 - accuracy: 0.9001\n",
      "Epoch 71/150\n",
      "16959/16959 [==============================] - 1s 88us/step - loss: 0.3090 - accuracy: 0.8999\n",
      "Epoch 72/150\n",
      "16959/16959 [==============================] - 2s 88us/step - loss: 0.3088 - accuracy: 0.8999\n",
      "Epoch 73/150\n",
      "16959/16959 [==============================] - 1s 87us/step - loss: 0.3090 - accuracy: 0.9002\n",
      "Epoch 74/150\n",
      "16959/16959 [==============================] - 2s 89us/step - loss: 0.3086 - accuracy: 0.8999\n",
      "Epoch 75/150\n",
      "16959/16959 [==============================] - 1s 88us/step - loss: 0.3086 - accuracy: 0.9002 0s -\n",
      "Epoch 76/150\n",
      "16959/16959 [==============================] - 1s 88us/step - loss: 0.3084 - accuracy: 0.9001 1s\n",
      "Epoch 77/150\n",
      "16959/16959 [==============================] - 2s 89us/step - loss: 0.3082 - accuracy: 0.8999\n",
      "Epoch 78/150\n",
      "16959/16959 [==============================] - 2s 89us/step - loss: 0.3083 - accuracy: 0.9001\n",
      "Epoch 79/150\n",
      "16959/16959 [==============================] - 1s 87us/step - loss: 0.3081 - accuracy: 0.9001\n",
      "Epoch 80/150\n",
      "16959/16959 [==============================] - 2s 89us/step - loss: 0.3075 - accuracy: 0.9003\n",
      "Epoch 81/150\n",
      "16959/16959 [==============================] - 1s 88us/step - loss: 0.3078 - accuracy: 0.9001\n",
      "Epoch 82/150\n",
      "16959/16959 [==============================] - 1s 88us/step - loss: 0.3074 - accuracy: 0.9002\n",
      "Epoch 83/150\n",
      "16959/16959 [==============================] - 1s 88us/step - loss: 0.3077 - accuracy: 0.9002\n",
      "Epoch 84/150\n",
      "16959/16959 [==============================] - 1s 87us/step - loss: 0.3076 - accuracy: 0.9003\n",
      "Epoch 85/150\n",
      "16959/16959 [==============================] - 2s 89us/step - loss: 0.3073 - accuracy: 0.9001\n",
      "Epoch 86/150\n",
      "16959/16959 [==============================] - 1s 88us/step - loss: 0.3075 - accuracy: 0.8999\n",
      "Epoch 87/150\n",
      "16959/16959 [==============================] - 2s 89us/step - loss: 0.3073 - accuracy: 0.9001\n",
      "Epoch 88/150\n",
      "16959/16959 [==============================] - 1s 88us/step - loss: 0.3071 - accuracy: 0.9003\n",
      "Epoch 89/150\n",
      "16959/16959 [==============================] - 1s 88us/step - loss: 0.3072 - accuracy: 0.9003\n",
      "Epoch 90/150\n",
      "16959/16959 [==============================] - 1s 88us/step - loss: 0.3067 - accuracy: 0.9001\n",
      "Epoch 91/150\n",
      "16959/16959 [==============================] - 2s 89us/step - loss: 0.3070 - accuracy: 0.8998\n",
      "Epoch 92/150\n",
      "16959/16959 [==============================] - 1s 87us/step - loss: 0.3073 - accuracy: 0.9006\n",
      "Epoch 93/150\n",
      "16959/16959 [==============================] - 1s 87us/step - loss: 0.3069 - accuracy: 0.9004\n",
      "Epoch 94/150\n",
      "16959/16959 [==============================] - 1s 87us/step - loss: 0.3065 - accuracy: 0.9001\n",
      "Epoch 95/150\n",
      "16959/16959 [==============================] - 1s 88us/step - loss: 0.3068 - accuracy: 0.9006\n",
      "Epoch 96/150\n",
      "16959/16959 [==============================] - 1s 87us/step - loss: 0.3069 - accuracy: 0.9007\n",
      "Epoch 97/150\n",
      "16959/16959 [==============================] - 1s 87us/step - loss: 0.3068 - accuracy: 0.9004\n",
      "Epoch 98/150\n",
      "16959/16959 [==============================] - 1s 88us/step - loss: 0.3066 - accuracy: 0.9009\n",
      "Epoch 99/150\n",
      "16959/16959 [==============================] - 1s 88us/step - loss: 0.3067 - accuracy: 0.9008\n",
      "Epoch 100/150\n",
      "16959/16959 [==============================] - 2s 93us/step - loss: 0.3061 - accuracy: 0.9002\n",
      "Epoch 101/150\n",
      "16959/16959 [==============================] - 2s 90us/step - loss: 0.3066 - accuracy: 0.9002\n",
      "Epoch 102/150\n",
      "16959/16959 [==============================] - 1s 88us/step - loss: 0.3061 - accuracy: 0.9005\n",
      "Epoch 103/150\n",
      "16959/16959 [==============================] - 1s 88us/step - loss: 0.3061 - accuracy: 0.9005\n",
      "Epoch 104/150\n",
      "16959/16959 [==============================] - 2s 89us/step - loss: 0.3063 - accuracy: 0.9005\n",
      "Epoch 105/150\n",
      "16959/16959 [==============================] - 2s 89us/step - loss: 0.3060 - accuracy: 0.9007\n",
      "Epoch 106/150\n",
      "16959/16959 [==============================] - 1s 87us/step - loss: 0.3058 - accuracy: 0.9006\n",
      "Epoch 107/150\n",
      "16959/16959 [==============================] - 2s 89us/step - loss: 0.3062 - accuracy: 0.9003\n",
      "Epoch 108/150\n",
      "16959/16959 [==============================] - 2s 89us/step - loss: 0.3062 - accuracy: 0.9004\n",
      "Epoch 109/150\n",
      "16959/16959 [==============================] - 2s 91us/step - loss: 0.3062 - accuracy: 0.9006\n",
      "Epoch 110/150\n",
      "16959/16959 [==============================] - 1s 84us/step - loss: 0.3063 - accuracy: 0.9005\n",
      "Epoch 111/150\n",
      "16959/16959 [==============================] - 1s 85us/step - loss: 0.3057 - accuracy: 0.9009\n",
      "Epoch 112/150\n",
      "16959/16959 [==============================] - 1s 86us/step - loss: 0.3061 - accuracy: 0.9006\n",
      "Epoch 113/150\n",
      "16959/16959 [==============================] - 1s 85us/step - loss: 0.3061 - accuracy: 0.9006 0s - loss: 0.3\n",
      "Epoch 114/150\n",
      "16959/16959 [==============================] - 1s 85us/step - loss: 0.3056 - accuracy: 0.9003\n",
      "Epoch 115/150\n",
      "16959/16959 [==============================] - 1s 88us/step - loss: 0.3057 - accuracy: 0.9008\n",
      "Epoch 116/150\n",
      "16959/16959 [==============================] - 2s 89us/step - loss: 0.3055 - accuracy: 0.9003\n",
      "Epoch 117/150\n",
      "16959/16959 [==============================] - 2s 89us/step - loss: 0.3056 - accuracy: 0.9009\n",
      "Epoch 118/150\n",
      "16959/16959 [==============================] - 1s 87us/step - loss: 0.3055 - accuracy: 0.9007 0s - loss: 0.3052 - accuracy: 0.\n",
      "Epoch 119/150\n",
      "16959/16959 [==============================] - 2s 89us/step - loss: 0.3059 - accuracy: 0.9006\n",
      "Epoch 120/150\n",
      "16959/16959 [==============================] - 1s 88us/step - loss: 0.3055 - accuracy: 0.9005\n",
      "Epoch 121/150\n",
      "16959/16959 [==============================] - 1s 88us/step - loss: 0.3051 - accuracy: 0.9008\n",
      "Epoch 122/150\n",
      "16959/16959 [==============================] - 2s 89us/step - loss: 0.3052 - accuracy: 0.9005\n",
      "Epoch 123/150\n",
      "16959/16959 [==============================] - 1s 88us/step - loss: 0.3056 - accuracy: 0.9006\n",
      "Epoch 124/150\n",
      "16959/16959 [==============================] - 1s 88us/step - loss: 0.3046 - accuracy: 0.9010\n",
      "Epoch 125/150\n",
      "16959/16959 [==============================] - 2s 88us/step - loss: 0.3052 - accuracy: 0.9002\n",
      "Epoch 126/150\n",
      "16959/16959 [==============================] - 1s 87us/step - loss: 0.3052 - accuracy: 0.9002\n",
      "Epoch 127/150\n",
      "16959/16959 [==============================] - 1s 87us/step - loss: 0.3052 - accuracy: 0.9001\n",
      "Epoch 128/150\n",
      "16959/16959 [==============================] - 1s 87us/step - loss: 0.3047 - accuracy: 0.9008\n",
      "Epoch 129/150\n",
      "16959/16959 [==============================] - 1s 88us/step - loss: 0.3050 - accuracy: 0.9010\n",
      "Epoch 130/150\n",
      "16959/16959 [==============================] - 1s 87us/step - loss: 0.3051 - accuracy: 0.9001\n",
      "Epoch 131/150\n",
      "16959/16959 [==============================] - 1s 87us/step - loss: 0.3051 - accuracy: 0.9007\n",
      "Epoch 132/150\n",
      "16959/16959 [==============================] - 1s 88us/step - loss: 0.3051 - accuracy: 0.9001\n",
      "Epoch 133/150\n",
      "16959/16959 [==============================] - 1s 88us/step - loss: 0.3047 - accuracy: 0.9004\n",
      "Epoch 134/150\n",
      "16959/16959 [==============================] - 2s 90us/step - loss: 0.3046 - accuracy: 0.9001\n",
      "Epoch 135/150\n",
      "16959/16959 [==============================] - 1s 87us/step - loss: 0.3045 - accuracy: 0.9005\n",
      "Epoch 136/150\n",
      "16959/16959 [==============================] - 2s 90us/step - loss: 0.3044 - accuracy: 0.9002\n",
      "Epoch 137/150\n",
      "16959/16959 [==============================] - 1s 87us/step - loss: 0.3046 - accuracy: 0.9009\n",
      "Epoch 138/150\n",
      "16959/16959 [==============================] - 1s 88us/step - loss: 0.3046 - accuracy: 0.9009\n",
      "Epoch 139/150\n",
      "16959/16959 [==============================] - 1s 88us/step - loss: 0.3045 - accuracy: 0.9006\n",
      "Epoch 140/150\n",
      "16959/16959 [==============================] - 2s 89us/step - loss: 0.3045 - accuracy: 0.9004\n",
      "Epoch 141/150\n",
      "16959/16959 [==============================] - 1s 88us/step - loss: 0.3046 - accuracy: 0.9009\n",
      "Epoch 142/150\n",
      "16959/16959 [==============================] - 1s 87us/step - loss: 0.3043 - accuracy: 0.9007\n",
      "Epoch 143/150\n",
      "16959/16959 [==============================] - 1s 87us/step - loss: 0.3044 - accuracy: 0.9006\n",
      "Epoch 144/150\n",
      "16959/16959 [==============================] - 2s 89us/step - loss: 0.3044 - accuracy: 0.9009\n",
      "Epoch 145/150\n",
      "16959/16959 [==============================] - 2s 89us/step - loss: 0.3042 - accuracy: 0.9007\n",
      "Epoch 146/150\n",
      "16959/16959 [==============================] - 1s 88us/step - loss: 0.3046 - accuracy: 0.9010\n",
      "Epoch 147/150\n",
      "16959/16959 [==============================] - 1s 88us/step - loss: 0.3045 - accuracy: 0.9006\n",
      "Epoch 148/150\n",
      "16959/16959 [==============================] - 1s 88us/step - loss: 0.3043 - accuracy: 0.9008\n",
      "Epoch 149/150\n",
      "16959/16959 [==============================] - 1s 88us/step - loss: 0.3041 - accuracy: 0.9007\n",
      "Epoch 150/150\n",
      "16959/16959 [==============================] - 1s 88us/step - loss: 0.3047 - accuracy: 0.9006\n"
     ]
    },
    {
     "data": {
      "text/plain": [
       "<keras.callbacks.callbacks.History at 0x22b691fada0>"
      ]
     },
     "execution_count": 40,
     "metadata": {},
     "output_type": "execute_result"
    }
   ],
   "source": [
    "model.fit(x_train,y_train, epochs=150, batch_size=10)"
   ]
  },
  {
   "cell_type": "code",
   "execution_count": 41,
   "metadata": {},
   "outputs": [
    {
     "name": "stdout",
     "output_type": "stream",
     "text": [
      "5653/5653 [==============================] - 0s 15us/step\n",
      "\n",
      "accuracy: 89.12%\n"
     ]
    }
   ],
   "source": [
    "scores = model.evaluate(x_test, y_test)\n",
    "print(\"\\n%s: %.2f%%\" % (model.metrics_names[1], scores[1]*100))"
   ]
  },
  {
   "cell_type": "code",
   "execution_count": 42,
   "metadata": {},
   "outputs": [
    {
     "name": "stdout",
     "output_type": "stream",
     "text": [
      "              precision    recall  f1-score   support\n",
      "\n",
      "           0       0.89      1.00      0.94      5059\n",
      "           1       0.08      0.00      0.01       594\n",
      "\n",
      "    accuracy                           0.89      5653\n",
      "   macro avg       0.49      0.50      0.47      5653\n",
      "weighted avg       0.81      0.89      0.84      5653\n",
      "\n"
     ]
    }
   ],
   "source": [
    "yhat_classes = model.predict_classes(x_test, verbose=0)\n",
    "matrix = classification_report(y_test, yhat_classes)\n",
    "print(matrix)"
   ]
  }
 ],
 "metadata": {
  "kernelspec": {
   "display_name": "Python 3",
   "language": "python",
   "name": "python3"
  },
  "language_info": {
   "codemirror_mode": {
    "name": "ipython",
    "version": 3
   },
   "file_extension": ".py",
   "mimetype": "text/x-python",
   "name": "python",
   "nbconvert_exporter": "python",
   "pygments_lexer": "ipython3",
   "version": "3.7.3"
  }
 },
 "nbformat": 4,
 "nbformat_minor": 2
}
