{
 "cells": [
  {
   "cell_type": "markdown",
   "metadata": {},
   "source": [
    "# Hospital Readmission Prediction"
   ]
  },
  {
   "cell_type": "markdown",
   "metadata": {},
   "source": [
    "### A hospital readmission is when a patient who is discharged from a hospital, gets re-admitted again within a certain period of time. Readmission rates for certain conditions are now considered an indicator of hospital quality, and also affect the cost of care adversely. Being able to determine factors that lead to higher readmission in such patients, and correspondingly being able to predict which patients will get readmitted can help hospitals save millions of dollars while improving quality of care. So, with that background in mind, we build models to predict the readmission rate "
   ]
  },
  {
   "cell_type": "markdown",
   "metadata": {},
   "source": [
    "#### Dataset -> https://archive.ics.uci.edu/ml/datasets/diabetes"
   ]
  },
  {
   "cell_type": "code",
   "execution_count": 1,
   "metadata": {},
   "outputs": [],
   "source": [
    "import pandas as pd\n",
    "import matplotlib.pyplot as plt\n",
    "from sklearn.preprocessing import MinMaxScaler\n",
    "import numpy as np\n",
    "from sklearn import metrics\n",
    "from sklearn.model_selection import train_test_split\n",
    "from sklearn.linear_model import LogisticRegression\n",
    "from sklearn.neighbors import KNeighborsClassifier\n",
    "from sklearn.svm import SVC\n",
    "from sklearn.tree import DecisionTreeClassifier\n",
    "from sklearn.model_selection import cross_val_score\n",
    "from sklearn.model_selection import GridSearchCV\n",
    "import seaborn as sns\n",
    "from sklearn.svm import LinearSVC\n",
    "import warnings\n",
    "warnings.filterwarnings('ignore')"
   ]
  },
  {
   "cell_type": "markdown",
   "metadata": {},
   "source": [
    "### Column Info"
   ]
  },
  {
   "cell_type": "markdown",
   "metadata": {},
   "source": [
    "- encounter_id : Patient encounter ID\n",
    "- patient_nbr : Patient nbr code                \n",
    "- race : Race                           \n",
    "- gender : Gender                     \n",
    "- age : Age in categories                            \n",
    "- weight : Weight                         \n",
    "- admission_type_id : admission id          \n",
    "- discharge_disposition_id : dishacharge id       \n",
    "- admission_source_id  : source id           \n",
    "- time_in_hospital : time spent in hospital             \n",
    "- payer_code  : payer code\n",
    "- medical_specialty : Medical Specialty\n",
    "- diag_1 : diagnosis 1\n",
    "- diag_2 : diagnosis 2\n",
    "- diag_3 : diagnosis 3\n",
    "- number_diagnoses : Total diagnosis\n",
    "- max_glu_serum  : Max Gluten level\n",
    "- A1Cresult  : A1 test results\n",
    "- Medication change for Different Drugs : (metformin ,repaglinide,nateglinide  chlorpropamide glimepiride acetohexamide glipizide glyburide tolbutamide pioglitazone rosiglitazone acarbose miglitol troglitazone tolazamine examide citoglipton insulin glyburide-metform glipizide-metformin glimepiride-pioglitazone  metformin-rosiglitazone metformin-pioglitone )\n",
    "- diabetesMed : Diabetic Medication\n",
    "- readmitted : Patient Readmiited or not"
   ]
  },
  {
   "cell_type": "markdown",
   "metadata": {},
   "source": [
    "### Data Pre Processing"
   ]
  },
  {
   "cell_type": "code",
   "execution_count": 2,
   "metadata": {},
   "outputs": [
    {
     "name": "stdout",
     "output_type": "stream",
     "text": [
      "DF Shape : (101766, 50)\n",
      "Unique Values By Column\n",
      "encounter_id                101766\n",
      "patient_nbr                  71518\n",
      "race                             6\n",
      "gender                           3\n",
      "age                             10\n",
      "weight                          10\n",
      "admission_type_id                8\n",
      "discharge_disposition_id        26\n",
      "admission_source_id             17\n",
      "time_in_hospital                14\n",
      "payer_code                      18\n",
      "medical_specialty               73\n",
      "num_lab_procedures             118\n",
      "num_procedures                   7\n",
      "num_medications                 75\n",
      "number_outpatient               39\n",
      "number_emergency                33\n",
      "number_inpatient                21\n",
      "diag_1                         717\n",
      "diag_2                         749\n",
      "diag_3                         790\n",
      "number_diagnoses                16\n",
      "max_glu_serum                    4\n",
      "A1Cresult                        4\n",
      "metformin                        4\n",
      "repaglinide                      4\n",
      "nateglinide                      4\n",
      "chlorpropamide                   4\n",
      "glimepiride                      4\n",
      "acetohexamide                    2\n",
      "glipizide                        4\n",
      "glyburide                        4\n",
      "tolbutamide                      2\n",
      "pioglitazone                     4\n",
      "rosiglitazone                    4\n",
      "acarbose                         4\n",
      "miglitol                         4\n",
      "troglitazone                     2\n",
      "tolazamide                       3\n",
      "examide                          1\n",
      "citoglipton                      1\n",
      "insulin                          4\n",
      "glyburide-metformin              4\n",
      "glipizide-metformin              2\n",
      "glimepiride-pioglitazone         2\n",
      "metformin-rosiglitazone          2\n",
      "metformin-pioglitazone           2\n",
      "change                           2\n",
      "diabetesMed                      2\n",
      "readmitted                       3\n",
      "dtype: int64\n"
     ]
    }
   ],
   "source": [
    "df = pd.read_csv(\"diabetic_data.csv\")\n",
    "print(\"DF Shape : \" +str(df.shape))\n",
    "print(\"Unique Values By Column\")\n",
    "print(df.nunique())"
   ]
  },
  {
   "cell_type": "code",
   "execution_count": 3,
   "metadata": {},
   "outputs": [
    {
     "name": "stdout",
     "output_type": "stream",
     "text": [
      "NA Values?  False\n",
      "Null Values?  False\n",
      "---No of ? as percent of total rows---\n",
      "encounter_id 0 0.0 %\n",
      "patient_nbr 0 0.0 %\n",
      "race 2273 2.23 %\n",
      "gender 0 0.0 %\n",
      "age 0 0.0 %\n",
      "weight 98569 96.86 %\n",
      "admission_type_id 0 0.0 %\n",
      "discharge_disposition_id 0 0.0 %\n",
      "admission_source_id 0 0.0 %\n",
      "time_in_hospital 0 0.0 %\n",
      "payer_code 40256 39.56 %\n",
      "medical_specialty 49949 49.08 %\n",
      "num_lab_procedures 0 0.0 %\n",
      "num_procedures 0 0.0 %\n",
      "num_medications 0 0.0 %\n",
      "number_outpatient 0 0.0 %\n",
      "number_emergency 0 0.0 %\n",
      "number_inpatient 0 0.0 %\n",
      "diag_1 21 0.02 %\n",
      "diag_2 358 0.35 %\n",
      "diag_3 1423 1.4 %\n",
      "number_diagnoses 0 0.0 %\n",
      "max_glu_serum 0 0.0 %\n",
      "A1Cresult 0 0.0 %\n",
      "metformin 0 0.0 %\n",
      "repaglinide 0 0.0 %\n",
      "nateglinide 0 0.0 %\n",
      "chlorpropamide 0 0.0 %\n",
      "glimepiride 0 0.0 %\n",
      "acetohexamide 0 0.0 %\n",
      "glipizide 0 0.0 %\n",
      "glyburide 0 0.0 %\n",
      "tolbutamide 0 0.0 %\n",
      "pioglitazone 0 0.0 %\n",
      "rosiglitazone 0 0.0 %\n",
      "acarbose 0 0.0 %\n",
      "miglitol 0 0.0 %\n",
      "troglitazone 0 0.0 %\n",
      "tolazamide 0 0.0 %\n",
      "examide 0 0.0 %\n",
      "citoglipton 0 0.0 %\n",
      "insulin 0 0.0 %\n",
      "glyburide-metformin 0 0.0 %\n",
      "glipizide-metformin 0 0.0 %\n",
      "glimepiride-pioglitazone 0 0.0 %\n",
      "metformin-rosiglitazone 0 0.0 %\n",
      "metformin-pioglitazone 0 0.0 %\n",
      "change 0 0.0 %\n",
      "diabetesMed 0 0.0 %\n",
      "readmitted 0 0.0 %\n"
     ]
    }
   ],
   "source": [
    "# Find the nulk and na values in the columns \n",
    "print(\"NA Values? \",df.isna().values.any())\n",
    "print(\"Null Values? \",df.isnull().values.any())\n",
    "\n",
    "totalRows = df.shape[0]\n",
    "\n",
    "#Most of the columns have ? in the dataset\n",
    "#Count the number of ? in each column\n",
    "\n",
    "print('---No of ? as percent of total rows---')\n",
    "for c in df.columns:\n",
    "    val= df[c]==\"?\"\n",
    "    print(c,df[c][val].count() , str(round((df[c][val].count()/totalRows)*100, 2)),\"%\")\n",
    "\n",
    "# The columns 'weight','payer_code','medical_specialty' have more than 40% of values as \"?\" so drop them"
   ]
  },
  {
   "cell_type": "code",
   "execution_count": 4,
   "metadata": {},
   "outputs": [],
   "source": [
    "# Also drop other unnecassary columns such as encounterid and patient nbr\n",
    "# drop examide and citoglipton since they have same values\n",
    "droppedColumns =['encounter_id','patient_nbr','weight','payer_code','medical_specialty','citoglipton','examide']\n",
    "df = df.drop(droppedColumns, axis = 1)\n",
    "df = df[df.gender != \"Unknown/Invalid\"] #since gender has few invalid values\n",
    "\n",
    "#Dropping rows with ? in race\n",
    "df = df[df.race != \"?\"] #since gender has few invalid values\n",
    "\n",
    "#Dropping max_glu_serum and A1Cresult since 90% of the values are None \n",
    "\n",
    "#Removing other unnecassry columns with id values which does not relate to readmission prediction\n",
    "df=df.drop(['max_glu_serum','A1Cresult','admission_type_id','discharge_disposition_id','admission_source_id',\n",
    "           'diag_1','diag_2','diag_3'], axis = 1)"
   ]
  },
  {
   "cell_type": "markdown",
   "metadata": {},
   "source": [
    "### Replacing the categorical values by numeric values\n",
    "##### There is no ordinal relationship within these variables. \n",
    "##### Using get_dummies to perform One Hot encoding and dropping one of the columns from the encoded features to avoid multi collinearity"
   ]
  },
  {
   "cell_type": "code",
   "execution_count": 5,
   "metadata": {
    "scrolled": true
   },
   "outputs": [],
   "source": [
    "df = pd.get_dummies(data=df, columns=['change', 'gender','diabetesMed'], drop_first=True) \n",
    "#drop_first=True --> drops one of the column from the encoded features"
   ]
  },
  {
   "cell_type": "code",
   "execution_count": 6,
   "metadata": {},
   "outputs": [],
   "source": [
    "#Recoding the outcome variable. \n",
    "#Whether the patient is readmitted within 30 days or not.#There are 3 categories, < 30, > 30 and No.\n",
    "#To reduce this to a binary classification, we combine readmission after 30 days and no readmission into one category:\n",
    "df['readmitted'] = df['readmitted'].map({'<30': 1, '>30':0, 'NO':0})\n",
    "\n",
    "# Similarly encoded different drugs with numerical values\n",
    "                                        \n",
    "#Replacing Categorical Values with Numerical Values with one hod encoding\n",
    "drugsNames = ['metformin', 'repaglinide', 'nateglinide', 'chlorpropamide', 'glimepiride',\n",
    "        'acetohexamide', 'glipizide', 'glyburide', 'tolbutamide','pioglitazone',\n",
    "        'rosiglitazone','acarbose','miglitol','troglitazone','tolazamide',\n",
    "        'insulin','glyburide-metformin','glipizide-metformin','glimepiride-pioglitazone','metformin-pioglitazone',\n",
    "        'metformin-rosiglitazone']\n",
    "\n",
    "for drug in drugsNames:\n",
    "    df[drug] = df[drug].map({'Steady': 1, 'Up':1, 'Down':1, 'No': 0})"
   ]
  },
  {
   "cell_type": "markdown",
   "metadata": {},
   "source": [
    "#### Splitting Age into different categories and converting it into numerical values"
   ]
  },
  {
   "cell_type": "code",
   "execution_count": 7,
   "metadata": {},
   "outputs": [],
   "source": [
    "# Mapping ages to different categories\n",
    "ageByCategories = {'[0-10)':'kids', \n",
    "                   '[10-20)':'teens', \n",
    "                   '[20-30)':'adults', '[30-40)':'adults', '[40-50)':'adults', '[50-60)':'adults', \n",
    "                   '[60-70)':'elderly', '[70-80)':'elderly', '[80-90)':'elderly', '[90-100)':'elderly'}\n",
    "df['age'] = df['age'].map(ageByCategories)\n",
    "#Converting Race and Age which are categorical into numerical values\n",
    "df = pd.get_dummies(data=df, columns=['race','age'], drop_first=True)"
   ]
  },
  {
   "cell_type": "markdown",
   "metadata": {},
   "source": [
    "### Box plot to show distrubution of values in the numerical columns"
   ]
  },
  {
   "cell_type": "code",
   "execution_count": 8,
   "metadata": {},
   "outputs": [
    {
     "data": {
      "image/png": "[encoded data removed]",
      "text/plain": [
       "<Figure size 576x576 with 1 Axes>"
      ]
     },
     "metadata": {
      "needs_background": "light"
     },
     "output_type": "display_data"
    },
    {
     "name": "stdout",
     "output_type": "stream",
     "text": [
      "Shape after removing outlier is  (65484, 40)\n"
     ]
    }
   ],
   "source": [
    "numericalColumns = ['time_in_hospital','num_lab_procedures','num_procedures','num_medications','number_outpatient',\n",
    "                   'number_emergency','number_inpatient','number_diagnoses']\n",
    "allColumns = df.columns\n",
    "categoricalColumns = []\n",
    "for c in allColumns:\n",
    "    if c not in numericalColumns:\n",
    "        categoricalColumns.append(c)\n",
    "        df[c] = df[c].astype('object')\n",
    "categoricalColumns.remove('readmitted')\n",
    "\n",
    "boxplot = df.boxplot(column=numericalColumns,rot=90,fontsize=10,figsize=(8,8))\n",
    "plt.show()\n",
    "#This shows the outliers in each column and outliers has to be removed\n",
    "df_Copy=df\n",
    "for c in numericalColumns:\n",
    "    col = df_Copy[c]\n",
    "    d = df_Copy[col.between(col.quantile(.05), col.quantile(.95))] # without outliers\n",
    "    df_Copy=d\n",
    "print(\"Shape after removing outlier is \",d.shape)"
   ]
  },
  {
   "cell_type": "code",
   "execution_count": 9,
   "metadata": {},
   "outputs": [
    {
     "data": {
      "text/html": [
       "<div>\n",
       "<style scoped>\n",
       "    .dataframe tbody tr th:only-of-type {\n",
       "        vertical-align: middle;\n",
       "    }\n",
       "\n",
       "    .dataframe tbody tr th {\n",
       "        vertical-align: top;\n",
       "    }\n",
       "\n",
       "    .dataframe thead th {\n",
       "        text-align: right;\n",
       "    }\n",
       "</style>\n",
       "<table border=\"1\" class=\"dataframe\">\n",
       "  <thead>\n",
       "    <tr style=\"text-align: right;\">\n",
       "      <th></th>\n",
       "      <th>time_in_hospital</th>\n",
       "      <th>num_lab_procedures</th>\n",
       "      <th>num_procedures</th>\n",
       "      <th>num_medications</th>\n",
       "      <th>number_outpatient</th>\n",
       "      <th>number_emergency</th>\n",
       "      <th>number_inpatient</th>\n",
       "      <th>number_diagnoses</th>\n",
       "    </tr>\n",
       "  </thead>\n",
       "  <tbody>\n",
       "    <tr>\n",
       "      <th>count</th>\n",
       "      <td>65484.000000</td>\n",
       "      <td>65484.000000</td>\n",
       "      <td>65484.000000</td>\n",
       "      <td>65484.000000</td>\n",
       "      <td>65484.000000</td>\n",
       "      <td>65484.000000</td>\n",
       "      <td>65484.000000</td>\n",
       "      <td>65484.000000</td>\n",
       "    </tr>\n",
       "    <tr>\n",
       "      <th>mean</th>\n",
       "      <td>3.965137</td>\n",
       "      <td>42.602666</td>\n",
       "      <td>1.042178</td>\n",
       "      <td>14.656847</td>\n",
       "      <td>0.153564</td>\n",
       "      <td>0.074889</td>\n",
       "      <td>0.452599</td>\n",
       "      <td>7.524265</td>\n",
       "    </tr>\n",
       "    <tr>\n",
       "      <th>std</th>\n",
       "      <td>2.391782</td>\n",
       "      <td>16.121749</td>\n",
       "      <td>1.342620</td>\n",
       "      <td>5.530388</td>\n",
       "      <td>0.448699</td>\n",
       "      <td>0.263213</td>\n",
       "      <td>0.773019</td>\n",
       "      <td>1.702148</td>\n",
       "    </tr>\n",
       "    <tr>\n",
       "      <th>min</th>\n",
       "      <td>1.000000</td>\n",
       "      <td>3.000000</td>\n",
       "      <td>0.000000</td>\n",
       "      <td>5.000000</td>\n",
       "      <td>0.000000</td>\n",
       "      <td>0.000000</td>\n",
       "      <td>0.000000</td>\n",
       "      <td>4.000000</td>\n",
       "    </tr>\n",
       "    <tr>\n",
       "      <th>25%</th>\n",
       "      <td>2.000000</td>\n",
       "      <td>33.000000</td>\n",
       "      <td>0.000000</td>\n",
       "      <td>10.000000</td>\n",
       "      <td>0.000000</td>\n",
       "      <td>0.000000</td>\n",
       "      <td>0.000000</td>\n",
       "      <td>6.000000</td>\n",
       "    </tr>\n",
       "    <tr>\n",
       "      <th>50%</th>\n",
       "      <td>3.000000</td>\n",
       "      <td>44.000000</td>\n",
       "      <td>0.000000</td>\n",
       "      <td>14.000000</td>\n",
       "      <td>0.000000</td>\n",
       "      <td>0.000000</td>\n",
       "      <td>0.000000</td>\n",
       "      <td>8.000000</td>\n",
       "    </tr>\n",
       "    <tr>\n",
       "      <th>75%</th>\n",
       "      <td>5.000000</td>\n",
       "      <td>55.000000</td>\n",
       "      <td>2.000000</td>\n",
       "      <td>18.000000</td>\n",
       "      <td>0.000000</td>\n",
       "      <td>0.000000</td>\n",
       "      <td>1.000000</td>\n",
       "      <td>9.000000</td>\n",
       "    </tr>\n",
       "    <tr>\n",
       "      <th>max</th>\n",
       "      <td>11.000000</td>\n",
       "      <td>72.000000</td>\n",
       "      <td>5.000000</td>\n",
       "      <td>28.000000</td>\n",
       "      <td>2.000000</td>\n",
       "      <td>1.000000</td>\n",
       "      <td>3.000000</td>\n",
       "      <td>9.000000</td>\n",
       "    </tr>\n",
       "  </tbody>\n",
       "</table>\n",
       "</div>"
      ],
      "text/plain": [
       "       time_in_hospital  num_lab_procedures  num_procedures  num_medications  \\\n",
       "count      65484.000000        65484.000000    65484.000000     65484.000000   \n",
       "mean           3.965137           42.602666        1.042178        14.656847   \n",
       "std            2.391782           16.121749        1.342620         5.530388   \n",
       "min            1.000000            3.000000        0.000000         5.000000   \n",
       "25%            2.000000           33.000000        0.000000        10.000000   \n",
       "50%            3.000000           44.000000        0.000000        14.000000   \n",
       "75%            5.000000           55.000000        2.000000        18.000000   \n",
       "max           11.000000           72.000000        5.000000        28.000000   \n",
       "\n",
       "       number_outpatient  number_emergency  number_inpatient  number_diagnoses  \n",
       "count       65484.000000      65484.000000      65484.000000      65484.000000  \n",
       "mean            0.153564          0.074889          0.452599          7.524265  \n",
       "std             0.448699          0.263213          0.773019          1.702148  \n",
       "min             0.000000          0.000000          0.000000          4.000000  \n",
       "25%             0.000000          0.000000          0.000000          6.000000  \n",
       "50%             0.000000          0.000000          0.000000          8.000000  \n",
       "75%             0.000000          0.000000          1.000000          9.000000  \n",
       "max             2.000000          1.000000          3.000000          9.000000  "
      ]
     },
     "execution_count": 9,
     "metadata": {},
     "output_type": "execute_result"
    }
   ],
   "source": [
    "d.describe()"
   ]
  },
  {
   "cell_type": "markdown",
   "metadata": {},
   "source": [
    "### Correlation Matrix\n",
    "\n",
    "###### This shows that there is no correlation among the numerical columns and thereby inicates no multicollinearity in the data set"
   ]
  },
  {
   "cell_type": "code",
   "execution_count": 10,
   "metadata": {},
   "outputs": [
    {
     "data": {
      "image/png": "[encoded data removed]",
      "text/plain": [
       "<Figure size 720x720 with 2 Axes>"
      ]
     },
     "metadata": {
      "needs_background": "light"
     },
     "output_type": "display_data"
    }
   ],
   "source": [
    "corr_df = df[numericalColumns]\n",
    "cor_mat = corr_df.corr()\n",
    "mask = np.array(cor_mat)\n",
    "mask[np.tril_indices_from(mask)] = False\n",
    "fig = plt.gcf()\n",
    "fig.set_size_inches(10,10)\n",
    "sns.heatmap(data=cor_mat, mask=mask, square=True, annot=True, cbar=True)\n",
    "plt.show()"
   ]
  },
  {
   "cell_type": "code",
   "execution_count": null,
   "metadata": {},
   "outputs": [],
   "source": []
  },
  {
   "cell_type": "markdown",
   "metadata": {},
   "source": [
    "### Cross Validation Train-Test Split"
   ]
  },
  {
   "cell_type": "code",
   "execution_count": 11,
   "metadata": {},
   "outputs": [],
   "source": [
    "x = d.drop(['readmitted'],axis=1)\n",
    "y = d['readmitted']\n",
    "y=y.astype('int')"
   ]
  },
  {
   "cell_type": "code",
   "execution_count": 12,
   "metadata": {},
   "outputs": [],
   "source": [
    "#Using minmax scaler to perform scaling on the numerical columns.Also the data is not normally distributed \n",
    "#Each numerical features are now on a common range from 0 to 1\n",
    "\n",
    "scaler = MinMaxScaler()\n",
    "\n",
    "x_train_org, x_test_org, y_train, y_test = train_test_split(x,y,random_state=0)\n",
    "\n",
    "x_train_new = scaler.fit_transform(x_train_org[numericalColumns])\n",
    "x_train_arr = np.concatenate((x_train_new, x_train_org[categoricalColumns]), axis=1)\n",
    "x_train = pd.DataFrame(data=x_train_arr, columns=x_train_org.columns)\n",
    "\n",
    "x_test_new = scaler.transform(x_test_org[numericalColumns])\n",
    "x_test_arr = np.concatenate((x_test_new, x_test_org[categoricalColumns]), axis=1)\n",
    "x_test = pd.DataFrame(data=x_test_arr, columns=x_test_org.columns)\n",
    "\n",
    "\n",
    "x_train[numericalColumns] = x_train[numericalColumns].apply(pd.to_numeric)\n",
    "x_test[numericalColumns] = x_test[numericalColumns].apply(pd.to_numeric)\n"
   ]
  },
  {
   "cell_type": "markdown",
   "metadata": {},
   "source": [
    "## MODEL BUILDING"
   ]
  },
  {
   "cell_type": "markdown",
   "metadata": {},
   "source": [
    "## Logistic Regression"
   ]
  },
  {
   "cell_type": "code",
   "execution_count": 31,
   "metadata": {},
   "outputs": [
    {
     "name": "stdout",
     "output_type": "stream",
     "text": [
      "Logistic Accuracy Train: 0.8957302547187099\n",
      "Logistic Accuracy Test : 0.8932258261560075\n"
     ]
    }
   ],
   "source": [
    "logreg = LogisticRegression(solver='liblinear')\n",
    "logreg.fit(x_train, y_train)\n",
    "y_pred = logreg.predict(x_test)\n",
    "y_pred_train = logreg.predict(x_train)\n",
    "print(\"Logistic Accuracy Train:\",metrics.accuracy_score(y_train, y_pred_train))\n",
    "print(\"Logistic Accuracy Test :\",metrics.accuracy_score(y_test, y_pred))"
   ]
  },
  {
   "cell_type": "markdown",
   "metadata": {},
   "source": [
    "### Logisitic Regression with GridSearch CV"
   ]
  },
  {
   "cell_type": "code",
   "execution_count": 32,
   "metadata": {},
   "outputs": [
    {
     "name": "stdout",
     "output_type": "stream",
     "text": [
      "Best value of C in Logistic Regression is {'C': 1.0}\n",
      "Best Accuracy of the model when C is {'C': 1.0} is 0.8957302547187099\n"
     ]
    }
   ],
   "source": [
    "c_space = np.logspace(0,5,10)\n",
    "param_grid = {'C': c_space}\n",
    "logreg_cv = GridSearchCV(logreg, param_grid, cv=5)\n",
    "logreg_cv.fit(x_train,y_train)\n",
    "print('Best value of C in Logistic Regression is ' + str(logreg_cv.best_params_))\n",
    "print(\"Best Accuracy of the model when C is \" + str(logreg_cv.best_params_)+ \" is \" + str(logreg_cv.best_score_))\n",
    "log_new = logreg_cv.best_estimator_"
   ]
  },
  {
   "cell_type": "markdown",
   "metadata": {},
   "source": [
    "#### Cross Validation"
   ]
  },
  {
   "cell_type": "code",
   "execution_count": 33,
   "metadata": {},
   "outputs": [
    {
     "name": "stdout",
     "output_type": "stream",
     "text": [
      "Train score: 0.8957\n",
      "Test score: 0.8932\n"
     ]
    }
   ],
   "source": [
    "train_scores = cross_val_score(log_new, x_train, y_train, cv = 5)\n",
    "test_scores = log_new.score(x_test, y_test)\n",
    "print('Train score: {:.4f}'.format(train_scores.mean()))\n",
    "print('Test score: {:.4f}'.format(test_scores.mean()))"
   ]
  },
  {
   "cell_type": "markdown",
   "metadata": {},
   "source": [
    "## KNN Classifier"
   ]
  },
  {
   "cell_type": "code",
   "execution_count": 34,
   "metadata": {},
   "outputs": [
    {
     "name": "stdout",
     "output_type": "stream",
     "text": [
      "KNN Accuracy Train: 0.8957302547187099\n",
      "KNN Accuracy Test: 0.8688534603872702\n"
     ]
    },
    {
     "data": {
      "image/png": "[encoded data removed]",
      "text/plain": [
       "<Figure size 432x288 with 1 Axes>"
      ]
     },
     "metadata": {
      "needs_background": "light"
     },
     "output_type": "display_data"
    }
   ],
   "source": [
    "knn = KNeighborsClassifier(n_neighbors=3)\n",
    "knn.fit(x_train, y_train)\n",
    "y_pred = knn.predict(x_test)\n",
    "y_pred_train = logreg.predict(x_train)\n",
    "print(\"KNN Accuracy Train:\",metrics.accuracy_score(y_train, y_pred_train))\n",
    "print(\"KNN Accuracy Test:\",metrics.accuracy_score(y_test, y_pred))\n",
    "\n",
    "k_scores=[]\n",
    "k_range = range(1,7)\n",
    "for k in k_range:\n",
    "    knn= KNeighborsClassifier(n_neighbors=k)\n",
    "    k_scores.append(cross_val_score(knn,x,y,cv=3).mean())\n",
    "\n",
    "plt.plot(k_range,k_scores)\n",
    "plt.xlabel('Value of K')\n",
    "plt.ylabel('Cross-Validated Scores')\n",
    "plt.show()"
   ]
  },
  {
   "cell_type": "markdown",
   "metadata": {},
   "source": [
    "### KNN with GridSearch CV"
   ]
  },
  {
   "cell_type": "code",
   "execution_count": 35,
   "metadata": {},
   "outputs": [
    {
     "name": "stdout",
     "output_type": "stream",
     "text": [
      "Fitting 3 folds for each of 12 candidates, totalling 36 fits\n"
     ]
    },
    {
     "name": "stderr",
     "output_type": "stream",
     "text": [
      "[Parallel(n_jobs=-1)]: Using backend LokyBackend with 8 concurrent workers.\n",
      "[Parallel(n_jobs=-1)]: Done  36 out of  36 | elapsed:  2.4min finished\n"
     ]
    },
    {
     "name": "stdout",
     "output_type": "stream",
     "text": [
      "Best value of K in K neighbors is {'n_neighbors': 6, 'weights': 'uniform'}\n",
      "Best Accuracy of the model when k is {'n_neighbors': 6, 'weights': 'uniform'} is 0.8938672042025533\n"
     ]
    }
   ],
   "source": [
    "param_grid = {'n_neighbors': [1,2,3,4,5,6],\n",
    "              \"weights\" : [\"uniform\",\"distance\"]\n",
    "             }\n",
    "knn_cv= GridSearchCV(KNeighborsClassifier(), param_grid, cv=3, n_jobs=-1, verbose=1)\n",
    "knn_cv.fit(x,y)\n",
    "print(\"Best value of K in K neighbors is \" + str(knn_cv.best_params_))\n",
    "print(\"Best Accuracy of the model when k is \" + str(knn_cv.best_params_)+ \" is \" + str(knn_cv.best_score_))\n",
    "knn_new = knn_cv.best_estimator_"
   ]
  },
  {
   "cell_type": "markdown",
   "metadata": {},
   "source": [
    "#### Cross Validation"
   ]
  },
  {
   "cell_type": "code",
   "execution_count": 36,
   "metadata": {},
   "outputs": [
    {
     "name": "stdout",
     "output_type": "stream",
     "text": [
      "Train score: 0.8940\n",
      "Test score: 0.8932\n"
     ]
    }
   ],
   "source": [
    "train_scores = cross_val_score(knn_new, x_train, y_train, cv = 4)\n",
    "test_scores = knn_new.score(x_test, y_test)\n",
    "print('Train score: {:.4f}'.format(train_scores.mean()))\n",
    "print('Test score: {:.4f}'.format(test_scores.mean()))"
   ]
  },
  {
   "cell_type": "markdown",
   "metadata": {},
   "source": [
    "## Decision Tree Classifier"
   ]
  },
  {
   "cell_type": "code",
   "execution_count": 37,
   "metadata": {},
   "outputs": [
    {
     "name": "stdout",
     "output_type": "stream",
     "text": [
      "Decision Tree Train Accuracy: 0.9993891637651946\n",
      "Decision Tree Test Accuracy: 0.7943314397410054\n"
     ]
    }
   ],
   "source": [
    "clf = DecisionTreeClassifier()\n",
    "clf.fit(x_train,y_train)\n",
    "y_pred = clf.predict(x_test)\n",
    "y_pred_train = clf.predict(x_train)\n",
    "print(\"Decision Tree Train Accuracy:\",metrics.accuracy_score(y_train, y_pred_train))\n",
    "print(\"Decision Tree Test Accuracy:\",metrics.accuracy_score(y_test, y_pred))"
   ]
  },
  {
   "cell_type": "markdown",
   "metadata": {},
   "source": [
    "### Decision Tree Classifier with Gridsearch CV"
   ]
  },
  {
   "cell_type": "code",
   "execution_count": 38,
   "metadata": {},
   "outputs": [
    {
     "name": "stdout",
     "output_type": "stream",
     "text": [
      "Fitting 3 folds for each of 60 candidates, totalling 180 fits\n"
     ]
    },
    {
     "name": "stderr",
     "output_type": "stream",
     "text": [
      "[Parallel(n_jobs=1)]: Using backend SequentialBackend with 1 concurrent workers.\n"
     ]
    },
    {
     "name": "stdout",
     "output_type": "stream",
     "text": [
      "0.8957302547187099\n",
      "{'criterion': 'gini', 'max_depth': 1, 'min_samples_split': 2}\n",
      "DecisionTreeClassifier(class_weight=None, criterion='gini', max_depth=1,\n",
      "            max_features=None, max_leaf_nodes=None,\n",
      "            min_impurity_decrease=0.0, min_impurity_split=None,\n",
      "            min_samples_leaf=1, min_samples_split=2,\n",
      "            min_weight_fraction_leaf=0.0, presort=False, random_state=42,\n",
      "            splitter='best')\n"
     ]
    },
    {
     "name": "stderr",
     "output_type": "stream",
     "text": [
      "[Parallel(n_jobs=1)]: Done 180 out of 180 | elapsed:   46.1s finished\n"
     ]
    }
   ],
   "source": [
    "tree_para = {'criterion':['gini','entropy'],\n",
    "             'max_depth': range(1,20,2),\n",
    "             'min_samples_split': [2, 3, 4]\n",
    "            }\n",
    "clf_cv = GridSearchCV(DecisionTreeClassifier(random_state=42), tree_para, verbose=1, cv=3)\n",
    "clf_cv.fit(x_train, y_train)\n",
    "\n",
    "# Single best score achieved across all params (min_samples_split)\n",
    "print(clf_cv.best_score_)\n",
    "\n",
    "# Dictionary containing the parameter to generate that score\n",
    "print(clf_cv.best_params_)\n",
    "\n",
    "# Actual model object fit with those best parameters\n",
    "print(clf_cv.best_estimator_)\n",
    "clf_new = clf_cv.best_estimator_"
   ]
  },
  {
   "cell_type": "markdown",
   "metadata": {},
   "source": [
    "#### Cross Validation"
   ]
  },
  {
   "cell_type": "code",
   "execution_count": 39,
   "metadata": {},
   "outputs": [
    {
     "name": "stdout",
     "output_type": "stream",
     "text": [
      "Train score: 0.8957\n",
      "Test score: 0.8932\n"
     ]
    }
   ],
   "source": [
    "train_scores = cross_val_score(clf_new, x_train, y_train, cv = 4)\n",
    "test_scores = clf_new.score(x_test, y_test)\n",
    "print('Train score: {:.4f}'.format(train_scores.mean()))\n",
    "print('Test score: {:.4f}'.format(test_scores.mean()))"
   ]
  },
  {
   "cell_type": "markdown",
   "metadata": {},
   "source": [
    "## Support Vector Machines"
   ]
  },
  {
   "cell_type": "code",
   "execution_count": 40,
   "metadata": {},
   "outputs": [
    {
     "name": "stdout",
     "output_type": "stream",
     "text": [
      "SVM (Linear) Accuracy : 0.8932258261560075\n"
     ]
    }
   ],
   "source": [
    "svclinear = SVC(kernel='linear')\n",
    "svclinear.fit(x_train, y_train)\n",
    "y_pred = svclinear.predict(x_test)\n",
    "print(\"SVM (Linear) Accuracy :\",metrics.accuracy_score(y_test, y_pred))"
   ]
  },
  {
   "cell_type": "code",
   "execution_count": 41,
   "metadata": {
    "scrolled": true
   },
   "outputs": [
    {
     "name": "stdout",
     "output_type": "stream",
     "text": [
      "SVM (poly) Accuracy: 0.8932258261560075\n"
     ]
    }
   ],
   "source": [
    "svcpoly = SVC(kernel='poly', degree=3, gamma='auto')\n",
    "svcpoly.fit(x_train, y_train)\n",
    "y_pred = svcpoly.predict(x_test)\n",
    "print(\"SVM (poly) Accuracy:\",metrics.accuracy_score(y_test, y_pred))"
   ]
  },
  {
   "cell_type": "code",
   "execution_count": 42,
   "metadata": {},
   "outputs": [
    {
     "name": "stdout",
     "output_type": "stream",
     "text": [
      "SVM (rbf) Accuracy: 0.8932258261560075\n"
     ]
    }
   ],
   "source": [
    "svcrbf = SVC(kernel='rbf', gamma=1, C=1)\n",
    "svcrbf.fit(x_train, y_train)\n",
    "y_pred = svcrbf.predict(x_test)\n",
    "print(\"SVM (rbf) Accuracy:\",metrics.accuracy_score(y_test, y_pred))"
   ]
  },
  {
   "cell_type": "code",
   "execution_count": null,
   "metadata": {},
   "outputs": [
    {
     "name": "stdout",
     "output_type": "stream",
     "text": [
      "Fitting 3 folds for each of 27 candidates, totalling 81 fits\n"
     ]
    },
    {
     "name": "stderr",
     "output_type": "stream",
     "text": [
      "C:\\Users\\saran\\Anaconda3\\lib\\site-packages\\sklearn\\model_selection\\_split.py:2053: FutureWarning: You should specify a value for 'cv' instead of relying on the default value. The default value will change from 3 to 5 in version 0.22.\n",
      "  warnings.warn(CV_WARNING, FutureWarning)\n",
      "[Parallel(n_jobs=-1)]: Using backend LokyBackend with 8 concurrent workers.\n"
     ]
    }
   ],
   "source": [
    "svc_param_grid = {'C': [0.1,1,10], \n",
    "                  'gamma': [0.1,1,10],\n",
    "                  'kernel': ['rbf', 'poly','linear']}\n",
    "\n",
    "svc_cv = GridSearchCV(SVC(),svc_param_grid ,verbose=1, n_jobs=-1)\n",
    "svc_cv.fit(x_train,y_train)\n",
    "print(\"Best score achieved across all params  \", svc_cv.best_score_)\n",
    "print(\"Best Parameters \" ,svc_cv.best_params_)\n",
    "print(\"Best SVM estimator \", svc_cv.best_estimator_)\n",
    "svm_new = svc_cv.best_estimator_     "
   ]
  },
  {
   "cell_type": "markdown",
   "metadata": {},
   "source": [
    "#### Cross Validation"
   ]
  },
  {
   "cell_type": "code",
   "execution_count": 17,
   "metadata": {},
   "outputs": [
    {
     "name": "stdout",
     "output_type": "stream",
     "text": [
      "Train score: 0.8957\n",
      "Test score: 0.8932\n"
     ]
    }
   ],
   "source": [
    "train_scores = cross_val_score(svc_cv, x_train, y_train, cv = 3)\n",
    "test_scores = svc_cv.score(x_test, y_test)\n",
    "print('Train score: {:.4f}'.format(train_scores.mean()))\n",
    "print('Test score: {:.4f}'.format(test_scores.mean()))"
   ]
  },
  {
   "cell_type": "code",
   "execution_count": 13,
   "metadata": {},
   "outputs": [
    {
     "name": "stdout",
     "output_type": "stream",
     "text": [
      "{'C': 100}\n",
      "0.47539252891824757\n"
     ]
    }
   ],
   "source": [
    "param_grid = {'C':[0.01, 0.1, 1, 10, 100, 1000]}\n",
    "\n",
    "linearSVC_grid = GridSearchCV(LinearSVC(), \n",
    "                     param_grid, cv =5 , return_train_score= True,scoring = 'f1_macro', iid = False)\n",
    "linearSVC_grid.fit(x_train, y_train)\n",
    "print(linearSVC_grid.best_params_)\n",
    "print(linearSVC_grid.best_score_)"
   ]
  },
  {
   "cell_type": "markdown",
   "metadata": {},
   "source": [
    "### Conclusion"
   ]
  },
  {
   "cell_type": "markdown",
   "metadata": {},
   "source": [
    "#### The Logistic Regression, KNN and SVM models have a good accuracy scores around 89%when comapred to decision tree classifier which only has a test accuracy of 79.3% . The best model would be KNN with 6 neighbors and uniform weights since it has an accuracy of 89.38 %"
   ]
  }
 ],
 "metadata": {
  "kernelspec": {
   "display_name": "Python 3",
   "language": "python",
   "name": "python3"
  },
  "language_info": {
   "codemirror_mode": {
    "name": "ipython",
    "version": 3
   },
   "file_extension": ".py",
   "mimetype": "text/x-python",
   "name": "python",
   "nbconvert_exporter": "python",
   "pygments_lexer": "ipython3",
   "version": "3.7.3"
  }
 },
 "nbformat": 4,
 "nbformat_minor": 2
}
